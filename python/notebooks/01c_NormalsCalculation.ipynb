{
 "cells": [
  {
   "cell_type": "code",
   "execution_count": 1,
   "id": "48377991-51c2-4210-a7e9-0bc92b8c86f0",
   "metadata": {},
   "outputs": [],
   "source": [
    "import os\n",
    "import numpy as np\n",
    "import cloudComPy as cc\n",
    "import time\n",
    "import matplotlib.pyplot as plt\n",
    "\n",
    "from yaml import load\n",
    "from yaml.loader import Loader"
   ]
  },
  {
   "cell_type": "markdown",
   "id": "c038e682-831c-4628-8bdb-c2a9dc93fd7d",
   "metadata": {},
   "source": [
    "## Set up the processing parameters"
   ]
  },
  {
   "cell_type": "code",
   "execution_count": 2,
   "id": "dcf9fe22-2bb3-44f1-ae19-93848384b3f2",
   "metadata": {},
   "outputs": [],
   "source": [
    "cavename = \"06_GrandFontannet\"\n",
    "SCAN = 0\n",
    "SEGMENTS = np.arange(0, 15)\n",
    "PROCESSING_FILEPATH = f\"../../real_data/{cavename}/params.yaml\"\n",
    "\n",
    "p = load(open(PROCESSING_FILEPATH), Loader)\n",
    "root = p[\"paths\"][\"root\"]\n",
    "\n",
    "SCAN_NAME = p['paths']['scanNames'][SCAN]\n",
    "\n",
    "SIZES = []\n",
    "CALC_TIMES = []"
   ]
  },
  {
   "cell_type": "code",
   "execution_count": null,
   "id": "38179c0f-81aa-4fbf-801c-237a2bf437ec",
   "metadata": {},
   "outputs": [],
   "source": [
    "for SEGMENT in SEGMENTS:\n",
    "\n",
    "    SCAN_FP = os.path.normpath(os.path.join(root, \"process\", \"cropped_clouds\", f\"{SCAN_NAME}_Cropped_{SEGMENT}.ply\"))\n",
    "    print(SCAN_FP)\n",
    "    # define the file path, root should point to the home cave directory\n",
    "    # load the point cloud to memory \n",
    "    cloud = cc.loadPointCloud(SCAN_FP)\n",
    "\n",
    "    n, connected_components, residuals = cc.ExtractConnectedComponents([cloud], octreeLevel=10)\n",
    "    print(f\"there were {n} connected components\")\n",
    "\n",
    "    # we extract CC0, the largest component.\n",
    "    sizes = [CC.size() for CC in connected_components]\n",
    "    \n",
    "    CC0 = connected_components[0]\n",
    "    SIZES.append(CC0.size())\n",
    "    \n",
    "    # check that the largest is indeed CC0. \n",
    "    assert CC0.size() == max(sizes)\n",
    "\n",
    "    start = time.time()\n",
    "    CC0_norm = cc.computeNormals([CC0], model = cc.LOCAL_MODEL_TYPES.LS, defaultRadius= 0.08, orientNormalsMST=True, mstNeighbors=24)\n",
    "    end = time.time()\n",
    "    CALC_TIMES.append(end-start)\n",
    "    print(f\"time elapsed: {end-start}\") # time in seconds.\n",
    "\n",
    "    OUT_FP = os.path.normpath(os.path.join(root, \"process\", \"cropped_clouds\", f\"{SCAN_NAME}_Cropped_{SEGMENT}_normals_reoriented.ply\"))\n",
    "\n",
    "    ret = cc.SavePointCloud(CC0, OUT_FP)"
   ]
  },
  {
   "cell_type": "code",
   "execution_count": null,
   "id": "95b0b315-4718-49ee-84c3-2eceaf559410",
   "metadata": {},
   "outputs": [],
   "source": [
    "fig, ax = plt.subplots()\n",
    "\n",
    "ax.scatter(SIZES, CALC_TIMES)"
   ]
  }
 ],
 "metadata": {
  "kernelspec": {
   "display_name": "Python 3 (ipykernel)",
   "language": "python",
   "name": "python3"
  },
  "language_info": {
   "codemirror_mode": {
    "name": "ipython",
    "version": 3
   },
   "file_extension": ".py",
   "mimetype": "text/x-python",
   "name": "python",
   "nbconvert_exporter": "python",
   "pygments_lexer": "ipython3",
   "version": "3.10.8"
  }
 },
 "nbformat": 4,
 "nbformat_minor": 5
}
