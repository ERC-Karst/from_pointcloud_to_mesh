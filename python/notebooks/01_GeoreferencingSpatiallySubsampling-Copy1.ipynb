{
 "cells": [
  {
   "cell_type": "code",
   "execution_count": 1,
   "id": "6958b967-9fc8-404d-9f53-0116181d22d8",
   "metadata": {},
   "outputs": [
    {
     "name": "stdout",
     "output_type": "stream",
     "text": [
      "Jupyter environment detected. Enabling Open3D WebVisualizer.\n",
      "[Open3D INFO] WebRTC GUI backend enabled.\n",
      "[Open3D INFO] WebRTCWindowSystem: HTTP handshake server disabled.\n"
     ]
    }
   ],
   "source": [
    "import numpy as np\n",
    "import os\n",
    "import open3d as o3d\n",
    "import cloudComPy as cc\n",
    "\n",
    "\n",
    "from yaml import load\n",
    "from yaml.loader import Loader\n",
    "\n",
    "from helpers.utils import load_matrix_from_file, suggest_global_shift\n",
    "from helpers import pairwise_registration as pr"
   ]
  },
  {
   "cell_type": "code",
   "execution_count": 3,
   "id": "d04a856f-d87b-40b6-a009-a67e59f0af61",
   "metadata": {},
   "outputs": [],
   "source": [
    "PROCESSING_FILEPATH = \"../../real_data/09_GrotteDeVallorbe/params.yaml\""
   ]
  },
  {
   "cell_type": "code",
   "execution_count": 4,
   "id": "aced3e83-3696-4df4-9b9b-594dfef9067e",
   "metadata": {},
   "outputs": [],
   "source": [
    "p = load(open(PROCESSING_FILEPATH), Loader)"
   ]
  },
  {
   "cell_type": "markdown",
   "id": "ae028215-4a5f-46a6-8f0b-053fdb94d997",
   "metadata": {},
   "source": [
    "## Read the datset into memory and optionally display it with Open3D"
   ]
  },
  {
   "cell_type": "code",
   "execution_count": 5,
   "id": "483602b3-86f2-49a5-bc22-9812c2dd783d",
   "metadata": {},
   "outputs": [
    {
     "name": "stdout",
     "output_type": "stream",
     "text": [
      "F:/ScanLeica/from_pointcloud_to_mesh/real_data/09_GrotteDeVallorbe\\raw/GrotteDeVallorbe.las\n"
     ]
    }
   ],
   "source": [
    "# define the file path, root should point to the home cave directory. \n",
    "root = p[\"paths\"][\"root\"]\n",
    "RAW_CLOUD_FILEPATH = os.path.join(root, p[\"paths\"][\"inCloudName\"])\n",
    "\n",
    "print(RAW_CLOUD_FILEPATH)\n",
    "# load the point cloud to memory \n",
    "cloud = cc.loadPointCloud(RAW_CLOUD_FILEPATH)"
   ]
  },
  {
   "cell_type": "code",
   "execution_count": 6,
   "id": "1fb4ed99-a210-4747-9554-08af1c737281",
   "metadata": {},
   "outputs": [
    {
     "name": "stdout",
     "output_type": "stream",
     "text": [
      "562385971\n"
     ]
    }
   ],
   "source": [
    "# print the cloud size \n",
    "cS = cloud.size()\n",
    "\n",
    "print(cS)"
   ]
  },
  {
   "cell_type": "code",
   "execution_count": 6,
   "id": "867328a7-246e-4f37-b3d4-1661188c6365",
   "metadata": {},
   "outputs": [],
   "source": [
    "# load the point cloud as an open3d geometry.\n",
    "pcd = o3d.io.read_point_cloud(RAW_CLOUD_FILEPATH)\n",
    "\n",
    "viz = o3d.visualization.draw_geometries([pcd])"
   ]
  },
  {
   "cell_type": "markdown",
   "id": "a757df65-e84f-49dd-bbe3-38ebebc32716",
   "metadata": {},
   "source": [
    "## Calculate the transformation matrix for the registration of the cloud"
   ]
  },
  {
   "cell_type": "code",
   "execution_count": 14,
   "id": "2c91aab8-982b-4839-8466-f08bf4a52e67",
   "metadata": {},
   "outputs": [],
   "source": [
    "# load the targets in the lidar scan. \n",
    "SCAN_TARGETS_FILEPATH = os.path.join(root, p[\"paths\"][\"scanTargets\"])\n",
    "SKIP_ROWS = p[\"alignment\"][\"skip_rows\"]\n",
    "MAX_ROWS = p[\"alignment\"][\"max_rows\"]\n",
    "USECOLS = p[\"alignment\"][\"usecols\"]\n",
    "scan_targets = np.loadtxt(SCAN_TARGETS_FILEPATH, \n",
    "                          skiprows=SKIP_ROWS, \n",
    "                          max_rows=MAX_ROWS,\n",
    "                          usecols=USECOLS, \n",
    "                          delimiter=\",\")"
   ]
  },
  {
   "cell_type": "code",
   "execution_count": 15,
   "id": "199e9041-b8f2-47ff-b38e-e891465b65d2",
   "metadata": {},
   "outputs": [],
   "source": [
    "# load the targets from the therion survey.\n",
    "THERION_TARGETS_FILEPATH = os.path.join(root, p[\"paths\"][\"therionTargets\"])\n",
    "\n",
    "therion_targets = np.loadtxt(THERION_TARGETS_FILEPATH,\n",
    "                             skiprows=SKIP_ROWS, \n",
    "                             max_rows=MAX_ROWS,\n",
    "                             usecols=USECOLS, \n",
    "                             delimiter=\",\")"
   ]
  },
  {
   "cell_type": "code",
   "execution_count": 16,
   "id": "3b6546cd-ff40-4895-a71e-bf57cec5e642",
   "metadata": {},
   "outputs": [
    {
     "name": "stdout",
     "output_type": "stream",
     "text": [
      "[[-516300.]\n",
      " [-172100.]\n",
      " [   -800.]]\n"
     ]
    }
   ],
   "source": [
    "globalShift = suggest_global_shift(therion_targets)\n",
    "print(globalShift)\n",
    "\n",
    "therion_targets_shifted = therion_targets + globalShift.T"
   ]
  },
  {
   "cell_type": "code",
   "execution_count": 17,
   "id": "e4f83e0d-a8cb-4599-b9ce-4c6ec13bd838",
   "metadata": {},
   "outputs": [
    {
     "data": {
      "text/plain": [
       "array([[ 90.66, -14.14,  27.68],\n",
       "       [ 76.99, -15.74,  27.49],\n",
       "       [ 54.37, -28.32,  22.74],\n",
       "       [ 33.16, -31.51,  18.14],\n",
       "       [  6.59, -31.23,  11.93],\n",
       "       [ -6.22, -43.08,   9.85],\n",
       "       [-21.44, -54.  ,  11.85],\n",
       "       [-46.05, -65.57,  12.57]])"
      ]
     },
     "execution_count": 17,
     "metadata": {},
     "output_type": "execute_result"
    }
   ],
   "source": [
    "therion_targets_shifted"
   ]
  },
  {
   "cell_type": "code",
   "execution_count": 18,
   "id": "7130a800-70a5-4c60-9bc7-e14d56a264a5",
   "metadata": {},
   "outputs": [
    {
     "name": "stdout",
     "output_type": "stream",
     "text": [
      "transformation is correct!\n"
     ]
    }
   ],
   "source": [
    "result, R, T = pr.pairWiseRegistration(scan_targets,therion_targets_shifted, atol= 3e-1)"
   ]
  },
  {
   "cell_type": "code",
   "execution_count": 19,
   "id": "d90b5ed0-ff3a-4ee3-b750-76698ca48070",
   "metadata": {},
   "outputs": [
    {
     "name": "stdout",
     "output_type": "stream",
     "text": [
      "0.11715910103273558\n"
     ]
    }
   ],
   "source": [
    "# RMS error ? \n",
    "RMSE = np.sqrt( np.sum( (result.T - therion_targets_shifted)**2 ) / therion_targets_shifted.shape[0] )\n",
    "print(RMSE)"
   ]
  },
  {
   "cell_type": "code",
   "execution_count": 20,
   "id": "7677d8e1-9052-41da-8291-71afcb6e0055",
   "metadata": {},
   "outputs": [],
   "source": [
    "# write the matrix string.\n",
    "\n",
    "transformationMatrix = np.diag((1.,1.,1.,1.))\n",
    "transformationMatrix[:3,3] = T.T\n",
    "transformationMatrix[0:3,0:3] = R"
   ]
  },
  {
   "cell_type": "code",
   "execution_count": 21,
   "id": "03607972-43b1-488f-afa3-4a53a7e5b6a7",
   "metadata": {},
   "outputs": [],
   "source": [
    "# write the global shift matrix string.\n",
    "\n",
    "globalShiftMatrix = np.diag((1.,1.,1.,1.))\n",
    "globalShiftMatrix[:3,3] = globalShift.T"
   ]
  },
  {
   "cell_type": "code",
   "execution_count": 22,
   "id": "3caaf79d-ba14-4ea2-9a09-bc4b6d44c21c",
   "metadata": {},
   "outputs": [],
   "source": [
    "# save to predefined paths \n",
    "TR_MATRIX_FILEPATH = os.path.join(root, p[\"paths\"][\"transformMatrix\"])\n",
    "GLOBAL_SHIFT_FILEPATH = os.path.join(root, p[\"paths\"][\"globalShift\"])\n",
    "np.savetxt(TR_MATRIX_FILEPATH, transformationMatrix)\n",
    "np.savetxt(GLOBAL_SHIFT_FILEPATH, globalShiftMatrix)"
   ]
  },
  {
   "cell_type": "markdown",
   "id": "7d595197-1cd9-4676-a71b-95dcf518e5b9",
   "metadata": {},
   "source": [
    "## Apply the transformation matrix to the point cloud"
   ]
  },
  {
   "cell_type": "code",
   "execution_count": 23,
   "id": "f6982477-1f62-442d-8c20-e1fc0d840817",
   "metadata": {},
   "outputs": [],
   "source": [
    "# read the transformation as a CloudCompare transformation matrix. \n",
    "tr_matrix_as_string = load_matrix_from_file(TR_MATRIX_FILEPATH)\n",
    "trans = cc.ccGLMatrix.fromString(tr_matrix_as_string)"
   ]
  },
  {
   "cell_type": "code",
   "execution_count": 24,
   "id": "8c37e473-1aa9-4571-a63b-bce5c393a12f",
   "metadata": {},
   "outputs": [],
   "source": [
    "# apply the rigid transformation \n",
    "cloud.applyRigidTransformation(trans)"
   ]
  },
  {
   "cell_type": "code",
   "execution_count": 25,
   "id": "5db6345d-df4c-418b-aa1c-4b08314000bd",
   "metadata": {},
   "outputs": [],
   "source": [
    "# resample the cloud spatially so as to perform quicker computation\n",
    "SPATIAL_SAMPLING_DISTANCE = p[\"subsampling\"][\"spatialSamplingDistance\"]\n",
    "\n",
    "refCloud = cc.CloudSamplingTools.resampleCloudSpatially(cloud, SPATIAL_SAMPLING_DISTANCE)\n",
    "\n",
    "(spatiallyResampledCloud, res) = cloud.partialClone(refCloud)\n",
    "spatiallyResampledCloud.setName(\"spatiallyResampledCloud\")\n"
   ]
  },
  {
   "cell_type": "code",
   "execution_count": 26,
   "id": "1ef4c3ff-e58c-439d-9489-8583deb3e233",
   "metadata": {},
   "outputs": [
    {
     "name": "stdout",
     "output_type": "stream",
     "text": [
      "[-516300.] [-172100.] [-800.]\n"
     ]
    }
   ],
   "source": [
    "# apply the global shift translation\n",
    "x,y,z = globalShift\n",
    "print(x, y, z)\n",
    "cloud.setGlobalShift(x,y,z)\n",
    "# apply the rigid transformation \n",
    "spatiallyResampledCloud.setGlobalShift(x,y,z)"
   ]
  },
  {
   "cell_type": "markdown",
   "id": "5e9042ad-f31f-4631-8197-dffb3b8b8c6b",
   "metadata": {},
   "source": [
    "## Save the spatially subsampled point cloud"
   ]
  },
  {
   "cell_type": "code",
   "execution_count": 28,
   "id": "f1ffd912-fc50-4914-a60e-d3c081fed8a0",
   "metadata": {},
   "outputs": [],
   "source": [
    "SUBSAMPLED_CLOUD_FILEPATH = os.path.join(root, p[\"paths\"][\"subsampledGeorefOutCloudName\"])\n",
    "\n",
    "ret = cc.SavePointCloud(spatiallyResampledCloud, SUBSAMPLED_CLOUD_FILEPATH)\n"
   ]
  },
  {
   "cell_type": "markdown",
   "id": "88e1860f-fa71-466b-9981-956b8e6c49ee",
   "metadata": {},
   "source": [
    "## Save the whole point cloud"
   ]
  },
  {
   "cell_type": "code",
   "execution_count": 30,
   "id": "12874ce0-5b36-487a-a150-0202eb1a8dc2",
   "metadata": {},
   "outputs": [],
   "source": [
    "GEOREF_CLOUD_FILEPATH = os.path.join(root, p[\"paths\"][\"georefOutCloudName\"])\n",
    "\n",
    "ret = cc.SavePointCloud(cloud, GEOREF_CLOUD_FILEPATH)\n"
   ]
  },
  {
   "cell_type": "markdown",
   "id": "ee4edcdc-ce97-4648-ae9f-fa4c38054c77",
   "metadata": {},
   "source": [
    "## Crop the entrance area using a predefined line "
   ]
  },
  {
   "cell_type": "code",
   "execution_count": 46,
   "id": "0f5e2e28-ff19-486f-833b-9026731af36c",
   "metadata": {},
   "outputs": [
    {
     "name": "stdout",
     "output_type": "stream",
     "text": [
      "../../real_data/06_GrandFontannet/process/CropEntrance.poly\n"
     ]
    }
   ],
   "source": [
    "CROP_POLYLINE_PATH = os.path.join(root, p[\"paths\"][\"entranceCrop\"])\n",
    "CROP_DIRECTION = p[\"entranceCropping\"][\"direction\"]\n",
    "LEAVE_INSIDE =  p[\"entranceCropping\"][\"leaveInside\"]\n",
    "\n",
    "print(CROP_POLYLINE_PATH)\n",
    "cropPolyLine = cc.loadPolyline(CROP_POLYLINE_PATH, cc.CC_SHIFT_MODE.XYZ, 0,-x,-y,-z)\n",
    "\n",
    "cropPolyLine.setClosed(True)\n",
    "CloudCropZ = cloud.crop2D(cropPolyLine, CROP_DIRECTION, LEAVE_INSIDE) # 2 means cropping in the Z direction. \n",
    "                                  "
   ]
  },
  {
   "cell_type": "code",
   "execution_count": 47,
   "id": "b56e0193-c7f3-4c1d-9d17-930884f38d87",
   "metadata": {},
   "outputs": [],
   "source": [
    "spatiallyResampledCloudCropZ = spatiallyResampledCloud.crop2D(cropPolyLine, CROP_DIRECTION, LEAVE_INSIDE) # 2 means cropping in the Z direction. "
   ]
  },
  {
   "cell_type": "markdown",
   "id": "e1eb5312-482d-440f-8082-93d6495a354d",
   "metadata": {},
   "source": [
    "## Save the files"
   ]
  },
  {
   "cell_type": "code",
   "execution_count": 48,
   "id": "c6b4f6af-ef05-4380-b4e1-6b2bed0bdc7a",
   "metadata": {},
   "outputs": [],
   "source": [
    "# define the output filepath\n",
    "CUT2D_CLOUD_FILEPATH = os.path.join(root, p[\"paths\"][\"Cut2DOutCloudName\"])\n",
    "\n",
    "# save the point cloud\n",
    "ret = cc.SavePointCloud(CloudCropZ, CUT2D_CLOUD_FILEPATH)"
   ]
  },
  {
   "cell_type": "code",
   "execution_count": 49,
   "id": "4ef35c46-2d23-40a1-951d-0d371075b366",
   "metadata": {},
   "outputs": [],
   "source": [
    "# define the output filepath \n",
    "SUBSAMPLED_CUT2D_CLOUD_FILEPATH = os.path.join(root, p[\"paths\"][\"subsampledCut2DOutCloudName\"])\n",
    "\n",
    "# save the point cloud\n",
    "ret = cc.SavePointCloud(spatiallyResampledCloudCropZ, SUBSAMPLED_CUT2D_CLOUD_FILEPATH)"
   ]
  },
  {
   "cell_type": "code",
   "execution_count": null,
   "id": "6f6c14cf-c98d-4024-add7-b46f81805818",
   "metadata": {},
   "outputs": [],
   "source": []
  },
  {
   "cell_type": "code",
   "execution_count": null,
   "id": "88f8968c-e260-4dc2-9d26-ac2c46daa1fd",
   "metadata": {},
   "outputs": [],
   "source": []
  }
 ],
 "metadata": {
  "kernelspec": {
   "display_name": "Python 3 (ipykernel)",
   "language": "python",
   "name": "python3"
  },
  "language_info": {
   "codemirror_mode": {
    "name": "ipython",
    "version": 3
   },
   "file_extension": ".py",
   "mimetype": "text/x-python",
   "name": "python",
   "nbconvert_exporter": "python",
   "pygments_lexer": "ipython3",
   "version": "3.10.8"
  }
 },
 "nbformat": 4,
 "nbformat_minor": 5
}
