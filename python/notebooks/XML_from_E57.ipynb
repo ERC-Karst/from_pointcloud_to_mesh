{
 "cells": [
  {
   "cell_type": "code",
   "execution_count": 32,
   "id": "c1f38dd4-a4a1-465f-85f3-e2f59a90bd9d",
   "metadata": {},
   "outputs": [],
   "source": [
    "import e57 \n",
    "import xmltodict\n",
    "import os\n",
    "import numpy as np"
   ]
  },
  {
   "cell_type": "code",
   "execution_count": 30,
   "id": "73179607-4e0f-4b64-a662-b9625b516b14",
   "metadata": {},
   "outputs": [],
   "source": [
    "fp = \"../../real_data/08_PetiteMineDeTravers/raw\"\n",
    "\n",
    "# on initialise une liste vide\n",
    "points = [] \n",
    "\n",
    "# liste des fichiers e57 dans le chemin défini ci-dessus. On fait une boucle \n",
    "for file in os.listdir(fp):\n",
    "    if \"e57\" in file:\n",
    "        # on lit les meta données de chaque fichier e57\n",
    "        meta_data = e57.raw_xml(os.path.join(fp, file))\n",
    "\n",
    "        # on transcrit le fichier XML dans un dictionnaire python\n",
    "        doc = xmltodict.parse(meta_data)\n",
    "        # on extrait du dictionnaire python le nombre de points pour chaque scan et on transcrit au format float\n",
    "        recordcount = float(doc[\"e57Root\"][\"data3D\"]['vectorChild'][0][\"points\"][\"@recordCount\"])\n",
    "\n",
    "        # on ajoute le nombre de points dans la liste\n",
    "        points.append(recordcount)\n",
    "        "
   ]
  },
  {
   "cell_type": "code",
   "execution_count": 42,
   "id": "b8597c2f-bd5a-4ae7-aab8-a2fec2efbb40",
   "metadata": {},
   "outputs": [],
   "source": [
    "# on convertit la liste en tableau numpy.\n",
    "all_points = np.array(points).astype(float)"
   ]
  },
  {
   "cell_type": "code",
   "execution_count": 44,
   "id": "a7b931b4-372e-4f51-a239-be7cbccb2cdf",
   "metadata": {},
   "outputs": [
    {
     "data": {
      "text/plain": [
       "2928375393.0"
      ]
     },
     "execution_count": 44,
     "metadata": {},
     "output_type": "execute_result"
    }
   ],
   "source": [
    "# le nombre de points au total: \n",
    "np.sum(all_points)"
   ]
  }
 ],
 "metadata": {
  "kernelspec": {
   "display_name": "Python 3 (ipykernel)",
   "language": "python",
   "name": "python3"
  },
  "language_info": {
   "codemirror_mode": {
    "name": "ipython",
    "version": 3
   },
   "file_extension": ".py",
   "mimetype": "text/x-python",
   "name": "python",
   "nbconvert_exporter": "python",
   "pygments_lexer": "ipython3",
   "version": "3.10.8"
  }
 },
 "nbformat": 4,
 "nbformat_minor": 5
}
