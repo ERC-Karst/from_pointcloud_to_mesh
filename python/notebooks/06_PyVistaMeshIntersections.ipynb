{
 "cells": [
  {
   "cell_type": "code",
   "execution_count": 1,
   "id": "620f1f4b-e246-4e23-bf77-ec70ad14cf3f",
   "metadata": {},
   "outputs": [],
   "source": [
    "import pyvista as pv\n",
    "import numpy as np\n",
    "import matplotlib.pyplot as plt\n",
    "from tqdm import tqdm as tqdm\n",
    "from helpers.rotation import RotateFromTo\n",
    "\n",
    "from yaml import load\n",
    "from yaml.loader import Loader\n"
   ]
  },
  {
   "cell_type": "code",
   "execution_count": 3,
   "id": "9f02fc43-7307-46e6-96da-20ae96573f1f",
   "metadata": {},
   "outputs": [],
   "source": [
    "BASENAME = \"12_RuptDuPuits\"\n",
    "\n",
    "fp = f\"../../real_data/{BASENAME}/params.yaml\"\n",
    "\n",
    "params = load(open(fp), Loader)\n",
    "\n",
    "GLOBAL_SHIFT = params[\"alignment\"][\"globalShift\"]\n",
    "\n",
    "PASSAGE = \"Cascade\""
   ]
  },
  {
   "cell_type": "code",
   "execution_count": 5,
   "id": "396045b2-a77b-4c89-bb95-d0ce3a6c0525",
   "metadata": {},
   "outputs": [],
   "source": [
    "data = pv.read(f\"../../real_data/{BASENAME}/output/{PASSAGE}_cleaned.stl\").extract_surface().triangulate()"
   ]
  },
  {
   "cell_type": "code",
   "execution_count": 7,
   "id": "a9f5632f-5daf-4597-8b2d-88fbe82b7c1b",
   "metadata": {},
   "outputs": [],
   "source": [
    "plane_origins = np.loadtxt(f\"../../real_data/{BASENAME}/process/planes_as_vectors/{PASSAGE}_z_interp_3d_Planes_Origin.txt\") + GLOBAL_SHIFT\n",
    "plane_vectors =  np.loadtxt(f\"../../real_data/{BASENAME}/process/planes_as_vectors/{PASSAGE}_z_interp_3d_Planes.txt\")"
   ]
  },
  {
   "cell_type": "code",
   "execution_count": 8,
   "id": "d06def01-65b3-47e8-88ea-570fcba302d6",
   "metadata": {},
   "outputs": [],
   "source": [
    "# define orthogonal unit vectors in horizontal plane \n",
    "d0 = np.array([1,0,0])\n",
    "d1 = np.array([0,1,0])\n",
    "\n",
    "# project the section-normal vectors onto horizontal plane. \n",
    "horiz_dip_dir = np.asarray((plane_vectors.dot(d0), plane_vectors.dot(d1), np.zeros(len(plane_vectors)))).T"
   ]
  },
  {
   "cell_type": "code",
   "execution_count": 9,
   "id": "da3a736a-8497-47f7-9613-3e6635127489",
   "metadata": {},
   "outputs": [
    {
     "name": "stdout",
     "output_type": "stream",
     "text": [
      "105\n"
     ]
    }
   ],
   "source": [
    "print(len(horiz_dip_dir))"
   ]
  },
  {
   "cell_type": "code",
   "execution_count": 19,
   "id": "039fc1d8-f3e9-4d1b-994d-227f294d8d87",
   "metadata": {},
   "outputs": [
    {
     "name": "stderr",
     "output_type": "stream",
     "text": [
      "  9%|███████                                                                           | 9/105 [02:15<25:15, 15.79s/it]"
     ]
    },
    {
     "name": "stdout",
     "output_type": "stream",
     "text": [
      "vectors seem to be near parallel, using reflections to compute rotation.\n"
     ]
    },
    {
     "name": "stderr",
     "output_type": "stream",
     "text": [
      " 10%|███████▋                                                                         | 10/105 [02:38<28:14, 17.84s/it]"
     ]
    },
    {
     "name": "stdout",
     "output_type": "stream",
     "text": [
      "vectors seem to be near parallel, using reflections to compute rotation.\n"
     ]
    },
    {
     "name": "stderr",
     "output_type": "stream",
     "text": [
      " 10%|████████▍                                                                        | 11/105 [02:57<28:28, 18.17s/it]"
     ]
    },
    {
     "name": "stdout",
     "output_type": "stream",
     "text": [
      "vectors seem to be near parallel, using reflections to compute rotation.\n"
     ]
    },
    {
     "name": "stderr",
     "output_type": "stream",
     "text": [
      " 11%|█████████▎                                                                       | 12/105 [03:11<26:25, 17.05s/it]"
     ]
    },
    {
     "name": "stdout",
     "output_type": "stream",
     "text": [
      "vectors seem to be near parallel, using reflections to compute rotation.\n"
     ]
    },
    {
     "name": "stderr",
     "output_type": "stream",
     "text": [
      " 12%|██████████                                                                       | 13/105 [03:26<25:00, 16.31s/it]"
     ]
    },
    {
     "name": "stdout",
     "output_type": "stream",
     "text": [
      "vectors seem to be near parallel, using reflections to compute rotation.\n"
     ]
    },
    {
     "name": "stderr",
     "output_type": "stream",
     "text": [
      " 13%|██████████▊                                                                      | 14/105 [03:40<23:57, 15.80s/it]"
     ]
    },
    {
     "name": "stdout",
     "output_type": "stream",
     "text": [
      "vectors seem to be near parallel, using reflections to compute rotation.\n"
     ]
    },
    {
     "name": "stderr",
     "output_type": "stream",
     "text": [
      " 14%|███████████▌                                                                     | 15/105 [03:55<23:03, 15.38s/it]"
     ]
    },
    {
     "name": "stdout",
     "output_type": "stream",
     "text": [
      "vectors seem to be near parallel, using reflections to compute rotation.\n"
     ]
    },
    {
     "name": "stderr",
     "output_type": "stream",
     "text": [
      " 15%|████████████▎                                                                    | 16/105 [04:09<22:23, 15.09s/it]"
     ]
    },
    {
     "name": "stdout",
     "output_type": "stream",
     "text": [
      "vectors seem to be near parallel, using reflections to compute rotation.\n"
     ]
    },
    {
     "name": "stderr",
     "output_type": "stream",
     "text": [
      " 16%|█████████████                                                                    | 17/105 [04:24<21:50, 14.89s/it]"
     ]
    },
    {
     "name": "stdout",
     "output_type": "stream",
     "text": [
      "vectors seem to be near parallel, using reflections to compute rotation.\n"
     ]
    },
    {
     "name": "stderr",
     "output_type": "stream",
     "text": [
      " 17%|█████████████▉                                                                   | 18/105 [04:38<21:28, 14.81s/it]"
     ]
    },
    {
     "name": "stdout",
     "output_type": "stream",
     "text": [
      "vectors seem to be near parallel, using reflections to compute rotation.\n"
     ]
    },
    {
     "name": "stderr",
     "output_type": "stream",
     "text": [
      " 18%|██████████████▋                                                                  | 19/105 [04:53<21:17, 14.85s/it]"
     ]
    },
    {
     "name": "stdout",
     "output_type": "stream",
     "text": [
      "vectors seem to be near parallel, using reflections to compute rotation.\n"
     ]
    },
    {
     "name": "stderr",
     "output_type": "stream",
     "text": [
      " 19%|███████████████▍                                                                 | 20/105 [05:08<20:57, 14.79s/it]"
     ]
    },
    {
     "name": "stdout",
     "output_type": "stream",
     "text": [
      "vectors seem to be near parallel, using reflections to compute rotation.\n"
     ]
    },
    {
     "name": "stderr",
     "output_type": "stream",
     "text": [
      " 20%|████████████████▏                                                                | 21/105 [05:23<21:02, 15.03s/it]"
     ]
    },
    {
     "name": "stdout",
     "output_type": "stream",
     "text": [
      "vectors seem to be near parallel, using reflections to compute rotation.\n",
      "vectors seem to be near parallel, using reflections to compute rotation.\n"
     ]
    },
    {
     "name": "stderr",
     "output_type": "stream",
     "text": [
      " 22%|█████████████████▋                                                               | 23/105 [05:53<20:28, 14.98s/it]"
     ]
    },
    {
     "name": "stdout",
     "output_type": "stream",
     "text": [
      "vectors seem to be near parallel, using reflections to compute rotation.\n"
     ]
    },
    {
     "name": "stderr",
     "output_type": "stream",
     "text": [
      " 23%|██████████████████▌                                                              | 24/105 [06:08<20:13, 14.98s/it]"
     ]
    },
    {
     "name": "stdout",
     "output_type": "stream",
     "text": [
      "vectors seem to be near parallel, using reflections to compute rotation.\n"
     ]
    },
    {
     "name": "stderr",
     "output_type": "stream",
     "text": [
      " 35%|████████████████████████████▌                                                    | 37/105 [10:35<27:12, 24.01s/it]"
     ]
    },
    {
     "name": "stdout",
     "output_type": "stream",
     "text": [
      "vectors seem to be near parallel, using reflections to compute rotation.\n"
     ]
    },
    {
     "name": "stderr",
     "output_type": "stream",
     "text": [
      " 36%|█████████████████████████████▎                                                   | 38/105 [10:52<24:22, 21.82s/it]"
     ]
    },
    {
     "name": "stdout",
     "output_type": "stream",
     "text": [
      "vectors seem to be near parallel, using reflections to compute rotation.\n"
     ]
    },
    {
     "name": "stderr",
     "output_type": "stream",
     "text": [
      " 37%|██████████████████████████████                                                   | 39/105 [11:07<21:33, 19.60s/it]"
     ]
    },
    {
     "name": "stdout",
     "output_type": "stream",
     "text": [
      "vectors seem to be near parallel, using reflections to compute rotation.\n"
     ]
    },
    {
     "name": "stderr",
     "output_type": "stream",
     "text": [
      " 38%|██████████████████████████████▊                                                  | 40/105 [11:21<19:33, 18.05s/it]"
     ]
    },
    {
     "name": "stdout",
     "output_type": "stream",
     "text": [
      "vectors seem to be near parallel, using reflections to compute rotation.\n"
     ]
    },
    {
     "name": "stderr",
     "output_type": "stream",
     "text": [
      " 39%|███████████████████████████████▋                                                 | 41/105 [11:35<18:06, 16.98s/it]"
     ]
    },
    {
     "name": "stdout",
     "output_type": "stream",
     "text": [
      "vectors seem to be near parallel, using reflections to compute rotation.\n"
     ]
    },
    {
     "name": "stderr",
     "output_type": "stream",
     "text": [
      " 40%|████████████████████████████████▍                                                | 42/105 [11:50<17:02, 16.23s/it]"
     ]
    },
    {
     "name": "stdout",
     "output_type": "stream",
     "text": [
      "vectors seem to be near parallel, using reflections to compute rotation.\n"
     ]
    },
    {
     "name": "stderr",
     "output_type": "stream",
     "text": [
      " 41%|█████████████████████████████████▏                                               | 43/105 [12:05<16:17, 15.76s/it]"
     ]
    },
    {
     "name": "stdout",
     "output_type": "stream",
     "text": [
      "vectors seem to be near parallel, using reflections to compute rotation.\n"
     ]
    },
    {
     "name": "stderr",
     "output_type": "stream",
     "text": [
      " 42%|█████████████████████████████████▉                                               | 44/105 [12:19<15:36, 15.35s/it]"
     ]
    },
    {
     "name": "stdout",
     "output_type": "stream",
     "text": [
      "vectors seem to be near parallel, using reflections to compute rotation.\n"
     ]
    },
    {
     "name": "stderr",
     "output_type": "stream",
     "text": [
      " 43%|██████████████████████████████████▋                                              | 45/105 [12:33<15:05, 15.09s/it]"
     ]
    },
    {
     "name": "stdout",
     "output_type": "stream",
     "text": [
      "vectors seem to be near parallel, using reflections to compute rotation.\n"
     ]
    },
    {
     "name": "stderr",
     "output_type": "stream",
     "text": [
      " 44%|███████████████████████████████████▍                                             | 46/105 [12:48<14:39, 14.91s/it]"
     ]
    },
    {
     "name": "stdout",
     "output_type": "stream",
     "text": [
      "vectors seem to be near parallel, using reflections to compute rotation.\n"
     ]
    },
    {
     "name": "stderr",
     "output_type": "stream",
     "text": [
      " 45%|████████████████████████████████████▎                                            | 47/105 [13:02<14:18, 14.80s/it]"
     ]
    },
    {
     "name": "stdout",
     "output_type": "stream",
     "text": [
      "vectors seem to be near parallel, using reflections to compute rotation.\n"
     ]
    },
    {
     "name": "stderr",
     "output_type": "stream",
     "text": [
      " 46%|█████████████████████████████████████                                            | 48/105 [13:17<14:03, 14.80s/it]"
     ]
    },
    {
     "name": "stdout",
     "output_type": "stream",
     "text": [
      "vectors seem to be near parallel, using reflections to compute rotation.\n"
     ]
    },
    {
     "name": "stderr",
     "output_type": "stream",
     "text": [
      " 47%|█████████████████████████████████████▊                                           | 49/105 [13:32<13:42, 14.68s/it]"
     ]
    },
    {
     "name": "stdout",
     "output_type": "stream",
     "text": [
      "vectors seem to be near parallel, using reflections to compute rotation.\n"
     ]
    },
    {
     "name": "stderr",
     "output_type": "stream",
     "text": [
      " 48%|██████████████████████████████████████▌                                          | 50/105 [13:46<13:23, 14.61s/it]"
     ]
    },
    {
     "name": "stdout",
     "output_type": "stream",
     "text": [
      "vectors seem to be near parallel, using reflections to compute rotation.\n"
     ]
    },
    {
     "name": "stderr",
     "output_type": "stream",
     "text": [
      " 49%|███████████████████████████████████████▎                                         | 51/105 [14:01<13:10, 14.64s/it]"
     ]
    },
    {
     "name": "stdout",
     "output_type": "stream",
     "text": [
      "vectors seem to be near parallel, using reflections to compute rotation.\n"
     ]
    },
    {
     "name": "stderr",
     "output_type": "stream",
     "text": [
      " 50%|████████████████████████████████████████                                         | 52/105 [14:15<12:51, 14.55s/it]"
     ]
    },
    {
     "name": "stdout",
     "output_type": "stream",
     "text": [
      "vectors seem to be near parallel, using reflections to compute rotation.\n"
     ]
    },
    {
     "name": "stderr",
     "output_type": "stream",
     "text": [
      " 58%|███████████████████████████████████████████████                                  | 61/105 [16:21<10:19, 14.09s/it]"
     ]
    },
    {
     "name": "stdout",
     "output_type": "stream",
     "text": [
      "vectors seem to be near parallel, using reflections to compute rotation.\n"
     ]
    },
    {
     "name": "stderr",
     "output_type": "stream",
     "text": [
      " 59%|███████████████████████████████████████████████▊                                 | 62/105 [16:36<10:11, 14.21s/it]"
     ]
    },
    {
     "name": "stdout",
     "output_type": "stream",
     "text": [
      "vectors seem to be near parallel, using reflections to compute rotation.\n"
     ]
    },
    {
     "name": "stderr",
     "output_type": "stream",
     "text": [
      " 60%|████████████████████████████████████████████████▌                                | 63/105 [16:51<10:05, 14.41s/it]"
     ]
    },
    {
     "name": "stdout",
     "output_type": "stream",
     "text": [
      "vectors seem to be near parallel, using reflections to compute rotation.\n"
     ]
    },
    {
     "name": "stderr",
     "output_type": "stream",
     "text": [
      " 61%|█████████████████████████████████████████████████▎                               | 64/105 [17:05<09:51, 14.42s/it]"
     ]
    },
    {
     "name": "stdout",
     "output_type": "stream",
     "text": [
      "vectors seem to be near parallel, using reflections to compute rotation.\n"
     ]
    },
    {
     "name": "stderr",
     "output_type": "stream",
     "text": [
      " 62%|██████████████████████████████████████████████████▏                              | 65/105 [17:20<09:39, 14.49s/it]"
     ]
    },
    {
     "name": "stdout",
     "output_type": "stream",
     "text": [
      "vectors seem to be near parallel, using reflections to compute rotation.\n"
     ]
    },
    {
     "name": "stderr",
     "output_type": "stream",
     "text": [
      " 63%|██████████████████████████████████████████████████▉                              | 66/105 [17:35<09:28, 14.57s/it]"
     ]
    },
    {
     "name": "stdout",
     "output_type": "stream",
     "text": [
      "vectors seem to be near parallel, using reflections to compute rotation.\n"
     ]
    },
    {
     "name": "stderr",
     "output_type": "stream",
     "text": [
      " 64%|███████████████████████████████████████████████████▋                             | 67/105 [17:49<09:15, 14.62s/it]"
     ]
    },
    {
     "name": "stdout",
     "output_type": "stream",
     "text": [
      "vectors seem to be near parallel, using reflections to compute rotation.\n"
     ]
    },
    {
     "name": "stderr",
     "output_type": "stream",
     "text": [
      " 65%|████████████████████████████████████████████████████▍                            | 68/105 [18:03<08:53, 14.42s/it]"
     ]
    },
    {
     "name": "stdout",
     "output_type": "stream",
     "text": [
      "vectors seem to be near parallel, using reflections to compute rotation.\n"
     ]
    },
    {
     "name": "stderr",
     "output_type": "stream",
     "text": [
      " 66%|█████████████████████████████████████████████████████▏                           | 69/105 [18:12<07:35, 12.66s/it]"
     ]
    },
    {
     "name": "stdout",
     "output_type": "stream",
     "text": [
      "vectors seem to be near parallel, using reflections to compute rotation.\n"
     ]
    },
    {
     "name": "stderr",
     "output_type": "stream",
     "text": [
      " 67%|██████████████████████████████████████████████████████                           | 70/105 [18:21<06:41, 11.46s/it]"
     ]
    },
    {
     "name": "stdout",
     "output_type": "stream",
     "text": [
      "vectors seem to be near parallel, using reflections to compute rotation.\n"
     ]
    },
    {
     "name": "stderr",
     "output_type": "stream",
     "text": [
      " 68%|██████████████████████████████████████████████████████▊                          | 71/105 [18:34<06:51, 12.10s/it]"
     ]
    },
    {
     "name": "stdout",
     "output_type": "stream",
     "text": [
      "vectors seem to be near parallel, using reflections to compute rotation.\n"
     ]
    },
    {
     "name": "stderr",
     "output_type": "stream",
     "text": [
      " 69%|███████████████████████████████████████████████████████▌                         | 72/105 [18:49<07:08, 13.00s/it]"
     ]
    },
    {
     "name": "stdout",
     "output_type": "stream",
     "text": [
      "vectors seem to be near parallel, using reflections to compute rotation.\n"
     ]
    },
    {
     "name": "stderr",
     "output_type": "stream",
     "text": [
      " 70%|████████████████████████████████████████████████████████▎                        | 73/105 [19:04<07:08, 13.40s/it]"
     ]
    },
    {
     "name": "stdout",
     "output_type": "stream",
     "text": [
      "vectors seem to be near parallel, using reflections to compute rotation.\n"
     ]
    },
    {
     "name": "stderr",
     "output_type": "stream",
     "text": [
      " 70%|█████████████████████████████████████████████████████████                        | 74/105 [19:18<07:08, 13.84s/it]"
     ]
    },
    {
     "name": "stdout",
     "output_type": "stream",
     "text": [
      "vectors seem to be near parallel, using reflections to compute rotation.\n"
     ]
    },
    {
     "name": "stderr",
     "output_type": "stream",
     "text": [
      " 71%|█████████████████████████████████████████████████████████▊                       | 75/105 [19:33<07:01, 14.05s/it]"
     ]
    },
    {
     "name": "stdout",
     "output_type": "stream",
     "text": [
      "vectors seem to be near parallel, using reflections to compute rotation.\n"
     ]
    },
    {
     "name": "stderr",
     "output_type": "stream",
     "text": [
      " 72%|██████████████████████████████████████████████████████████▋                      | 76/105 [19:48<06:54, 14.29s/it]"
     ]
    },
    {
     "name": "stdout",
     "output_type": "stream",
     "text": [
      "vectors seem to be near parallel, using reflections to compute rotation.\n"
     ]
    },
    {
     "name": "stderr",
     "output_type": "stream",
     "text": [
      " 73%|███████████████████████████████████████████████████████████▍                     | 77/105 [20:02<06:41, 14.36s/it]"
     ]
    },
    {
     "name": "stdout",
     "output_type": "stream",
     "text": [
      "vectors seem to be near parallel, using reflections to compute rotation.\n"
     ]
    },
    {
     "name": "stderr",
     "output_type": "stream",
     "text": [
      " 74%|████████████████████████████████████████████████████████████▏                    | 78/105 [20:17<06:27, 14.37s/it]"
     ]
    },
    {
     "name": "stdout",
     "output_type": "stream",
     "text": [
      "vectors seem to be near parallel, using reflections to compute rotation.\n"
     ]
    },
    {
     "name": "stderr",
     "output_type": "stream",
     "text": [
      " 75%|████████████████████████████████████████████████████████████▉                    | 79/105 [20:32<06:17, 14.53s/it]"
     ]
    },
    {
     "name": "stdout",
     "output_type": "stream",
     "text": [
      "vectors seem to be near parallel, using reflections to compute rotation.\n"
     ]
    },
    {
     "name": "stderr",
     "output_type": "stream",
     "text": [
      " 76%|█████████████████████████████████████████████████████████████▋                   | 80/105 [20:47<06:05, 14.62s/it]"
     ]
    },
    {
     "name": "stdout",
     "output_type": "stream",
     "text": [
      "vectors seem to be near parallel, using reflections to compute rotation.\n"
     ]
    },
    {
     "name": "stderr",
     "output_type": "stream",
     "text": [
      " 77%|██████████████████████████████████████████████████████████████▍                  | 81/105 [21:02<05:55, 14.81s/it]"
     ]
    },
    {
     "name": "stdout",
     "output_type": "stream",
     "text": [
      "vectors seem to be near parallel, using reflections to compute rotation.\n"
     ]
    },
    {
     "name": "stderr",
     "output_type": "stream",
     "text": [
      " 78%|███████████████████████████████████████████████████████████████▎                 | 82/105 [21:17<05:45, 15.02s/it]"
     ]
    },
    {
     "name": "stdout",
     "output_type": "stream",
     "text": [
      "vectors seem to be near parallel, using reflections to compute rotation.\n"
     ]
    },
    {
     "name": "stderr",
     "output_type": "stream",
     "text": [
      " 79%|████████████████████████████████████████████████████████████████                 | 83/105 [21:42<06:33, 17.87s/it]"
     ]
    },
    {
     "name": "stdout",
     "output_type": "stream",
     "text": [
      "vectors seem to be near parallel, using reflections to compute rotation.\n"
     ]
    },
    {
     "name": "stderr",
     "output_type": "stream",
     "text": [
      " 80%|████████████████████████████████████████████████████████████████▊                | 84/105 [22:10<07:19, 20.91s/it]"
     ]
    },
    {
     "name": "stdout",
     "output_type": "stream",
     "text": [
      "vectors seem to be near parallel, using reflections to compute rotation.\n"
     ]
    },
    {
     "name": "stderr",
     "output_type": "stream",
     "text": [
      " 81%|█████████████████████████████████████████████████████████████████▌               | 85/105 [22:35<07:22, 22.14s/it]"
     ]
    },
    {
     "name": "stdout",
     "output_type": "stream",
     "text": [
      "vectors seem to be near parallel, using reflections to compute rotation.\n"
     ]
    },
    {
     "name": "stderr",
     "output_type": "stream",
     "text": [
      " 82%|██████████████████████████████████████████████████████████████████▎              | 86/105 [22:58<07:08, 22.57s/it]"
     ]
    },
    {
     "name": "stdout",
     "output_type": "stream",
     "text": [
      "vectors seem to be near parallel, using reflections to compute rotation.\n"
     ]
    },
    {
     "name": "stderr",
     "output_type": "stream",
     "text": [
      " 83%|███████████████████████████████████████████████████████████████████              | 87/105 [23:17<06:26, 21.46s/it]"
     ]
    },
    {
     "name": "stdout",
     "output_type": "stream",
     "text": [
      "vectors seem to be near parallel, using reflections to compute rotation.\n"
     ]
    },
    {
     "name": "stderr",
     "output_type": "stream",
     "text": [
      " 84%|███████████████████████████████████████████████████████████████████▉             | 88/105 [23:32<05:31, 19.50s/it]"
     ]
    },
    {
     "name": "stdout",
     "output_type": "stream",
     "text": [
      "vectors seem to be near parallel, using reflections to compute rotation.\n"
     ]
    },
    {
     "name": "stderr",
     "output_type": "stream",
     "text": [
      " 85%|████████████████████████████████████████████████████████████████████▋            | 89/105 [23:47<04:48, 18.03s/it]"
     ]
    },
    {
     "name": "stdout",
     "output_type": "stream",
     "text": [
      "vectors seem to be near parallel, using reflections to compute rotation.\n"
     ]
    },
    {
     "name": "stderr",
     "output_type": "stream",
     "text": [
      " 86%|█████████████████████████████████████████████████████████████████████▍           | 90/105 [24:02<04:15, 17.07s/it]"
     ]
    },
    {
     "name": "stdout",
     "output_type": "stream",
     "text": [
      "vectors seem to be near parallel, using reflections to compute rotation.\n"
     ]
    },
    {
     "name": "stderr",
     "output_type": "stream",
     "text": [
      " 87%|██████████████████████████████████████████████████████████████████████▏          | 91/105 [24:16<03:49, 16.38s/it]"
     ]
    },
    {
     "name": "stdout",
     "output_type": "stream",
     "text": [
      "vectors seem to be near parallel, using reflections to compute rotation.\n"
     ]
    },
    {
     "name": "stderr",
     "output_type": "stream",
     "text": [
      " 88%|██████████████████████████████████████████████████████████████████████▉          | 92/105 [24:31<03:25, 15.81s/it]"
     ]
    },
    {
     "name": "stdout",
     "output_type": "stream",
     "text": [
      "vectors seem to be near parallel, using reflections to compute rotation.\n"
     ]
    },
    {
     "name": "stderr",
     "output_type": "stream",
     "text": [
      " 89%|███████████████████████████████████████████████████████████████████████▋         | 93/105 [24:45<03:04, 15.38s/it]"
     ]
    },
    {
     "name": "stdout",
     "output_type": "stream",
     "text": [
      "vectors seem to be near parallel, using reflections to compute rotation.\n"
     ]
    },
    {
     "name": "stderr",
     "output_type": "stream",
     "text": [
      " 90%|████████████████████████████████████████████████████████████████████████▌        | 94/105 [25:00<02:46, 15.11s/it]"
     ]
    },
    {
     "name": "stdout",
     "output_type": "stream",
     "text": [
      "vectors seem to be near parallel, using reflections to compute rotation.\n"
     ]
    },
    {
     "name": "stderr",
     "output_type": "stream",
     "text": [
      " 90%|█████████████████████████████████████████████████████████████████████████▎       | 95/105 [25:14<02:29, 14.94s/it]"
     ]
    },
    {
     "name": "stdout",
     "output_type": "stream",
     "text": [
      "vectors seem to be near parallel, using reflections to compute rotation.\n"
     ]
    },
    {
     "name": "stderr",
     "output_type": "stream",
     "text": [
      " 91%|██████████████████████████████████████████████████████████████████████████       | 96/105 [25:30<02:16, 15.21s/it]"
     ]
    },
    {
     "name": "stdout",
     "output_type": "stream",
     "text": [
      "vectors seem to be near parallel, using reflections to compute rotation.\n"
     ]
    },
    {
     "name": "stderr",
     "output_type": "stream",
     "text": [
      " 96%|████████████████████████████████████████████████████████████████████████████▉   | 101/105 [26:45<00:59, 14.97s/it]"
     ]
    },
    {
     "name": "stdout",
     "output_type": "stream",
     "text": [
      "vectors seem to be near parallel, using reflections to compute rotation.\n"
     ]
    },
    {
     "name": "stderr",
     "output_type": "stream",
     "text": [
      " 97%|█████████████████████████████████████████████████████████████████████████████▋  | 102/105 [27:00<00:45, 15.04s/it]"
     ]
    },
    {
     "name": "stdout",
     "output_type": "stream",
     "text": [
      "vectors seem to be near parallel, using reflections to compute rotation.\n"
     ]
    },
    {
     "name": "stderr",
     "output_type": "stream",
     "text": [
      " 98%|██████████████████████████████████████████████████████████████████████████████▍ | 103/105 [27:15<00:29, 14.95s/it]"
     ]
    },
    {
     "name": "stdout",
     "output_type": "stream",
     "text": [
      "vectors seem to be near parallel, using reflections to compute rotation.\n"
     ]
    },
    {
     "name": "stderr",
     "output_type": "stream",
     "text": [
      " 99%|███████████████████████████████████████████████████████████████████████████████▏| 104/105 [27:30<00:14, 14.95s/it]"
     ]
    },
    {
     "name": "stdout",
     "output_type": "stream",
     "text": [
      "vectors seem to be near parallel, using reflections to compute rotation.\n"
     ]
    },
    {
     "name": "stderr",
     "output_type": "stream",
     "text": [
      "100%|████████████████████████████████████████████████████████████████████████████████| 105/105 [27:45<00:00, 15.86s/it]"
     ]
    },
    {
     "name": "stdout",
     "output_type": "stream",
     "text": [
      "vectors seem to be near parallel, using reflections to compute rotation.\n"
     ]
    },
    {
     "name": "stderr",
     "output_type": "stream",
     "text": [
      "\n"
     ]
    }
   ],
   "source": [
    "for n, (orig, vec, vec_horiz) in tqdm(enumerate(zip(plane_origins, plane_vectors, horiz_dip_dir)), total = len(plane_origins)):\n",
    "    plane = pv.Plane(orig, vec, 20, 20, 100, 100).extract_surface().triangulate()\n",
    "    inter, _, _ = data.intersection(plane, split_first = False, split_second = False)\n",
    "\n",
    "    R1 =  RotateFromTo(vec, vec_horiz, verbose=True)\n",
    "    pp = inter.points - np.mean(plane.points, axis=0)\n",
    "    pp_vertical = R1 @ pp.T\n",
    "    R2 = RotateFromTo(vec_horiz, d1)\n",
    "    pp_rotated = R2 @ pp_vertical\n",
    "\n",
    "    np.savetxt(f\"../../real_data/{BASENAME}/process/sections_as_polylines/{PASSAGE}_unordered_section_{n:03d}.txt\", pp_rotated.T)\n",
    "        \n",
    "    #pp_reordered = order_points(pp_rotated.T.tolist(), 0)\n"
   ]
  },
  {
   "cell_type": "code",
   "execution_count": null,
   "id": "ac774168-4d4c-41bd-a13c-5771a25df6bf",
   "metadata": {},
   "outputs": [],
   "source": []
  }
 ],
 "metadata": {
  "kernelspec": {
   "display_name": "Python 3 (ipykernel)",
   "language": "python",
   "name": "python3"
  },
  "language_info": {
   "codemirror_mode": {
    "name": "ipython",
    "version": 3
   },
   "file_extension": ".py",
   "mimetype": "text/x-python",
   "name": "python",
   "nbconvert_exporter": "python",
   "pygments_lexer": "ipython3",
   "version": "3.10.8"
  }
 },
 "nbformat": 4,
 "nbformat_minor": 5
}
