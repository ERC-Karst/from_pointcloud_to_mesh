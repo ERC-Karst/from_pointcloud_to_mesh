{
 "cells": [
  {
   "cell_type": "code",
   "execution_count": 15,
   "id": "620f1f4b-e246-4e23-bf77-ec70ad14cf3f",
   "metadata": {},
   "outputs": [],
   "source": [
    "import pyvista as pv\n",
    "import numpy as np\n",
    "import matplotlib.pyplot as plt\n",
    "from tqdm import tqdm as tqdm\n",
    "from helpers.rotation import RotateFromTo\n",
    "\n",
    "from yaml import load\n",
    "from yaml.loader import Loader\n"
   ]
  },
  {
   "cell_type": "code",
   "execution_count": 16,
   "id": "9f02fc43-7307-46e6-96da-20ae96573f1f",
   "metadata": {},
   "outputs": [],
   "source": [
    "BASENAME = \"11_Prerouge\"\n",
    "\n",
    "fp = f\"../../real_data/{BASENAME}/params.yaml\"\n",
    "\n",
    "params = load(open(fp), Loader)\n",
    "\n",
    "GLOBAL_SHIFT = params[\"alignment\"][\"globalShift\"]\n",
    "\n",
    "PASSAGE = \"Chapelle\"\n",
    "SECTION = 1"
   ]
  },
  {
   "cell_type": "code",
   "execution_count": 17,
   "id": "396045b2-a77b-4c89-bb95-d0ce3a6c0525",
   "metadata": {},
   "outputs": [],
   "source": [
    "data = pv.read(f\"../../real_data/{BASENAME}/output/{PASSAGE}_{SECTION}_clean.stl\").extract_surface().triangulate()"
   ]
  },
  {
   "cell_type": "code",
   "execution_count": 18,
   "id": "a9f5632f-5daf-4597-8b2d-88fbe82b7c1b",
   "metadata": {},
   "outputs": [],
   "source": [
    "plane_origins = np.loadtxt(f\"../../real_data/{BASENAME}/process/planes_as_vectors/{PASSAGE}_{SECTION}_Planes_Origin.txt\") + GLOBAL_SHIFT\n",
    "plane_vectors =  np.loadtxt(f\"../../real_data/{BASENAME}/process/planes_as_vectors/{PASSAGE}_{SECTION}_Planes.txt\")"
   ]
  },
  {
   "cell_type": "code",
   "execution_count": 19,
   "id": "d06def01-65b3-47e8-88ea-570fcba302d6",
   "metadata": {},
   "outputs": [],
   "source": [
    "# define orthogonal unit vectors in horizontal plane \n",
    "d0 = np.array([1,0,0])\n",
    "d1 = np.array([0,1,0])\n",
    "\n",
    "# project the section-normal vectors onto horizontal plane. \n",
    "horiz_dip_dir = np.asarray((plane_vectors.dot(d0), plane_vectors.dot(d1), np.zeros(len(plane_vectors)))).T"
   ]
  },
  {
   "cell_type": "code",
   "execution_count": 20,
   "id": "da3a736a-8497-47f7-9613-3e6635127489",
   "metadata": {},
   "outputs": [
    {
     "name": "stdout",
     "output_type": "stream",
     "text": [
      "129\n"
     ]
    }
   ],
   "source": [
    "print(len(horiz_dip_dir))"
   ]
  },
  {
   "cell_type": "code",
   "execution_count": 21,
   "id": "039fc1d8-f3e9-4d1b-994d-227f294d8d87",
   "metadata": {},
   "outputs": [
    {
     "name": "stderr",
     "output_type": "stream",
     "text": [
      "  3%|██▌                                                                               | 4/128 [00:15<07:56,  3.85s/it]\n"
     ]
    },
    {
     "ename": "KeyboardInterrupt",
     "evalue": "",
     "output_type": "error",
     "traceback": [
      "\u001b[1;31m---------------------------------------------------------------------------\u001b[0m",
      "\u001b[1;31mKeyboardInterrupt\u001b[0m                         Traceback (most recent call last)",
      "Cell \u001b[1;32mIn[21], line 3\u001b[0m\n\u001b[0;32m      1\u001b[0m \u001b[38;5;28;01mfor\u001b[39;00m n, (orig, vec, vec_horiz) \u001b[38;5;129;01min\u001b[39;00m tqdm(\u001b[38;5;28menumerate\u001b[39m(\u001b[38;5;28mzip\u001b[39m(plane_origins, plane_vectors, horiz_dip_dir)), total \u001b[38;5;241m=\u001b[39m \u001b[38;5;28mlen\u001b[39m(plane_origins)):\n\u001b[0;32m      2\u001b[0m     plane \u001b[38;5;241m=\u001b[39m pv\u001b[38;5;241m.\u001b[39mPlane(orig, vec, \u001b[38;5;241m20\u001b[39m, \u001b[38;5;241m20\u001b[39m, \u001b[38;5;241m100\u001b[39m, \u001b[38;5;241m100\u001b[39m)\u001b[38;5;241m.\u001b[39mextract_surface()\u001b[38;5;241m.\u001b[39mtriangulate()\n\u001b[1;32m----> 3\u001b[0m     inter, _, _ \u001b[38;5;241m=\u001b[39m \u001b[43mdata\u001b[49m\u001b[38;5;241;43m.\u001b[39;49m\u001b[43mintersection\u001b[49m\u001b[43m(\u001b[49m\u001b[43mplane\u001b[49m\u001b[43m,\u001b[49m\u001b[43m \u001b[49m\u001b[43msplit_first\u001b[49m\u001b[43m \u001b[49m\u001b[38;5;241;43m=\u001b[39;49m\u001b[43m \u001b[49m\u001b[38;5;28;43;01mFalse\u001b[39;49;00m\u001b[43m,\u001b[49m\u001b[43m \u001b[49m\u001b[43msplit_second\u001b[49m\u001b[43m \u001b[49m\u001b[38;5;241;43m=\u001b[39;49m\u001b[43m \u001b[49m\u001b[38;5;28;43;01mFalse\u001b[39;49;00m\u001b[43m)\u001b[49m\n\u001b[0;32m      5\u001b[0m     R1 \u001b[38;5;241m=\u001b[39m  RotateFromTo(vec, vec_horiz, verbose\u001b[38;5;241m=\u001b[39m\u001b[38;5;28;01mFalse\u001b[39;00m)\n\u001b[0;32m      6\u001b[0m     pp \u001b[38;5;241m=\u001b[39m inter\u001b[38;5;241m.\u001b[39mpoints \u001b[38;5;241m-\u001b[39m np\u001b[38;5;241m.\u001b[39mmean(plane\u001b[38;5;241m.\u001b[39mpoints, axis\u001b[38;5;241m=\u001b[39m\u001b[38;5;241m0\u001b[39m)\n",
      "File \u001b[1;32m~\\.conda\\envs\\CloudComPy310\\lib\\site-packages\\pyvista\\core\\filters\\poly_data.py:649\u001b[0m, in \u001b[0;36mPolyDataFilters.intersection\u001b[1;34m(self, mesh, split_first, split_second, progress_bar)\u001b[0m\n\u001b[0;32m    647\u001b[0m intfilter\u001b[38;5;241m.\u001b[39mSetSplitFirstOutput(split_first)\n\u001b[0;32m    648\u001b[0m intfilter\u001b[38;5;241m.\u001b[39mSetSplitSecondOutput(split_second)\n\u001b[1;32m--> 649\u001b[0m \u001b[43m_update_alg\u001b[49m\u001b[43m(\u001b[49m\u001b[43mintfilter\u001b[49m\u001b[43m,\u001b[49m\u001b[43m \u001b[49m\u001b[43mprogress_bar\u001b[49m\u001b[43m,\u001b[49m\u001b[43m \u001b[49m\u001b[38;5;124;43m'\u001b[39;49m\u001b[38;5;124;43mComputing the intersection between two meshes\u001b[39;49m\u001b[38;5;124;43m'\u001b[39;49m\u001b[43m)\u001b[49m\n\u001b[0;32m    651\u001b[0m intersection \u001b[38;5;241m=\u001b[39m _get_output(intfilter, oport\u001b[38;5;241m=\u001b[39m\u001b[38;5;241m0\u001b[39m)\n\u001b[0;32m    652\u001b[0m first \u001b[38;5;241m=\u001b[39m _get_output(intfilter, oport\u001b[38;5;241m=\u001b[39m\u001b[38;5;241m1\u001b[39m)\n",
      "\u001b[1;31mKeyboardInterrupt\u001b[0m: "
     ]
    }
   ],
   "source": [
    "for n, (orig, vec, vec_horiz) in tqdm(enumerate(zip(plane_origins, plane_vectors, horiz_dip_dir)), total = len(plane_origins)):\n",
    "    plane = pv.Plane(orig, vec, 20, 20, 100, 100).extract_surface().triangulate()\n",
    "    inter, _, _ = data.intersection(plane, split_first = False, split_second = False)\n",
    "\n",
    "    R1 =  RotateFromTo(vec, vec_horiz, verbose=False)\n",
    "    pp = inter.points - np.mean(plane.points, axis=0)\n",
    "    pp_vertical = R1 @ pp.T\n",
    "    R2 = RotateFromTo(vec_horiz, d1)\n",
    "    pp_rotated = R2 @ pp_vertical\n",
    "\n",
    "    np.savetxt(f\"../../real_data/{BASENAME}/process/sections_as_polylines/{PASSAGE}_{SECTION}_unordered_section_{n:03d}.txt\", pp_rotated.T)\n",
    "        \n",
    "    #pp_reordered = order_points(pp_rotated.T.tolist(), 0)\n"
   ]
  },
  {
   "cell_type": "code",
   "execution_count": null,
   "id": "ac774168-4d4c-41bd-a13c-5771a25df6bf",
   "metadata": {},
   "outputs": [],
   "source": []
  }
 ],
 "metadata": {
  "kernelspec": {
   "display_name": "Python 3 (ipykernel)",
   "language": "python",
   "name": "python3"
  },
  "language_info": {
   "codemirror_mode": {
    "name": "ipython",
    "version": 3
   },
   "file_extension": ".py",
   "mimetype": "text/x-python",
   "name": "python",
   "nbconvert_exporter": "python",
   "pygments_lexer": "ipython3",
   "version": "3.10.8"
  }
 },
 "nbformat": 4,
 "nbformat_minor": 5
}
