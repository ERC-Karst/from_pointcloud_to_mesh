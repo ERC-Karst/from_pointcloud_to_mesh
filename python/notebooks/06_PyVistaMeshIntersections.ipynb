{
 "cells": [
  {
   "cell_type": "code",
   "execution_count": 1,
   "id": "620f1f4b-e246-4e23-bf77-ec70ad14cf3f",
   "metadata": {},
   "outputs": [],
   "source": [
    "import pyvista as pv\n",
    "import numpy as np\n",
    "import matplotlib.pyplot as plt\n",
    "from tqdm import tqdm as tqdm\n",
    "from helpers.rotation import RotateFromTo\n",
    "\n",
    "from yaml import load\n",
    "from yaml.loader import Loader\n"
   ]
  },
  {
   "cell_type": "code",
   "execution_count": 2,
   "id": "9f02fc43-7307-46e6-96da-20ae96573f1f",
   "metadata": {},
   "outputs": [],
   "source": [
    "BASENAME = \"16_Archamps\"\n",
    "\n",
    "fp = f\"../../real_data/{BASENAME}/params.yaml\"\n",
    "\n",
    "params = load(open(fp), Loader)\n",
    "\n",
    "GLOBAL_SHIFT = params[\"alignment\"][\"globalShift\"]\n",
    "\n",
    "PASSAGE = \"Meandre\"\n",
    "SECTION = 1"
   ]
  },
  {
   "cell_type": "code",
   "execution_count": null,
   "id": "f6c28602-17ab-4c2c-976d-751732880eb4",
   "metadata": {},
   "outputs": [],
   "source": []
  },
  {
   "cell_type": "code",
   "execution_count": 3,
   "id": "396045b2-a77b-4c89-bb95-d0ce3a6c0525",
   "metadata": {},
   "outputs": [
    {
     "data": {
      "text/plain": [
       "pyvista.core.pointset.PolyData"
      ]
     },
     "execution_count": 3,
     "metadata": {},
     "output_type": "execute_result"
    }
   ],
   "source": [
    "data = pv.read(f\"../../real_data/{BASENAME}/output/{PASSAGE}_{SECTION}_clean.stl\").extract_surface().triangulate()\n",
    "\n",
    "type(data)"
   ]
  },
  {
   "cell_type": "code",
   "execution_count": 16,
   "id": "a9f5632f-5daf-4597-8b2d-88fbe82b7c1b",
   "metadata": {},
   "outputs": [],
   "source": [
    "plane_origins = np.loadtxt(f\"../../real_data/{BASENAME}/process/planes_as_vectors/{PASSAGE}_{SECTION}_Planes_Origin.txt\") + GLOBAL_SHIFT\n",
    "plane_vectors =  np.loadtxt(f\"../../real_data/{BASENAME}/process/planes_as_vectors/{PASSAGE}_{SECTION}_Planes.txt\")"
   ]
  },
  {
   "cell_type": "code",
   "execution_count": 17,
   "id": "d06def01-65b3-47e8-88ea-570fcba302d6",
   "metadata": {},
   "outputs": [],
   "source": [
    "# define orthogonal unit vectors in horizontal plane \n",
    "d0 = np.array([1,0,0])\n",
    "d1 = np.array([0,1,0])\n",
    "\n",
    "# project the section-normal vectors onto horizontal plane. \n",
    "horiz_dip_dir = np.asarray((plane_vectors.dot(d0), plane_vectors.dot(d1), np.zeros(len(plane_vectors)))).T"
   ]
  },
  {
   "cell_type": "code",
   "execution_count": 18,
   "id": "da3a736a-8497-47f7-9613-3e6635127489",
   "metadata": {},
   "outputs": [
    {
     "name": "stdout",
     "output_type": "stream",
     "text": [
      "39\n"
     ]
    }
   ],
   "source": [
    "print(len(horiz_dip_dir))"
   ]
  },
  {
   "cell_type": "code",
   "execution_count": 19,
   "id": "06be47cb-e679-402a-9fed-0030f7b64f43",
   "metadata": {},
   "outputs": [],
   "source": [
    "plane_origins += np.array([100, 0,100])"
   ]
  },
  {
   "cell_type": "code",
   "execution_count": 20,
   "id": "1ad03a9f-dbf8-4bb9-b00a-ceb2358daf35",
   "metadata": {
    "collapsed": true,
    "jupyter": {
     "outputs_hidden": true
    }
   },
   "outputs": [
    {
     "data": {
      "text/plain": [
       "array([[ 62.63697445, -48.82138707,  41.07440339],\n",
       "       [ 62.2774407 , -49.16825281,  41.08639185],\n",
       "       [ 61.93217751, -49.52895092,  41.10198298],\n",
       "       [ 61.63457907, -49.93032971,  41.0906935 ],\n",
       "       [ 61.35561459, -50.34448129,  41.06567662],\n",
       "       [ 61.06536248, -50.74870889,  41.01863405],\n",
       "       [ 60.75302758, -51.12760488,  40.92584453],\n",
       "       [ 60.43312464, -51.49329526,  40.80786657],\n",
       "       [ 60.1107195 , -51.86250079,  40.71023852],\n",
       "       [ 59.79727548, -52.24990381,  40.68214766],\n",
       "       [ 59.50319622, -52.65188945,  40.72301253],\n",
       "       [ 59.19854618, -53.04240983,  40.79022333],\n",
       "       [ 58.8471943 , -53.39279351,  40.84656726],\n",
       "       [ 58.45734747, -53.70052925,  40.90314629],\n",
       "       [ 58.06113164, -53.99989904,  40.96110746],\n",
       "       [ 57.70238121, -54.34193448,  41.02235144],\n",
       "       [ 57.2735897 , -54.58363548,  41.03989091],\n",
       "       [ 56.78556054, -54.67814739,  41.06856625],\n",
       "       [ 56.30420607, -54.72014577,  41.19594912],\n",
       "       [ 55.82542758, -54.74826275,  41.33726408],\n",
       "       [ 55.34952053, -54.76211871,  41.48992924],\n",
       "       [ 54.87268385, -54.78031221,  41.63904598],\n",
       "       [ 54.38776192, -54.83533018,  41.7432602 ],\n",
       "       [ 53.90774533, -54.94931607,  41.81401912],\n",
       "       [ 53.50701687, -55.15848314,  42.02338611],\n",
       "       [ 53.13884138, -55.39086854,  42.26885015],\n",
       "       [ 52.7849504 , -55.6298964 ,  42.52884699],\n",
       "       [ 52.41879642, -55.88310582,  42.7554718 ],\n",
       "       [ 52.02455785, -56.16287338,  42.876534  ],\n",
       "       [ 51.61991334, -56.45462871,  42.90813201],\n",
       "       [ 51.19943699, -56.71995065,  42.95763   ],\n",
       "       [ 50.76415252, -56.95578709,  43.02746058],\n",
       "       [ 50.32643153, -57.18943498,  43.08878717],\n",
       "       [ 49.89896856, -57.44637931,  43.11727488],\n",
       "       [ 49.49050832, -57.73196852,  43.08224172],\n",
       "       [ 49.09484895, -58.0329102 ,  43.02918379],\n",
       "       [ 48.70596059, -58.34471056,  43.04442467],\n",
       "       [ 48.3395155 , -58.66392503,  43.15998978]])"
      ]
     },
     "execution_count": 20,
     "metadata": {},
     "output_type": "execute_result"
    }
   ],
   "source": [
    "plane_origins"
   ]
  },
  {
   "cell_type": "code",
   "execution_count": 21,
   "id": "ccfa7e9f-4c23-4508-8df9-1c228fa9577b",
   "metadata": {},
   "outputs": [
    {
     "data": {
      "text/plain": [
       "pyvista_ndarray([[ 54.815674, -55.98761 ,  39.248257],\n",
       "                 [ 54.815674, -56.020573,  39.242764],\n",
       "                 [ 54.8042  , -56.020573,  39.248257],\n",
       "                 ...,\n",
       "                 [ 61.253826, -49.11972 ,  41.753765],\n",
       "                 [ 61.22691 , -49.096226,  42.09402 ],\n",
       "                 [ 61.248337, -49.11493 ,  41.860588]], dtype=float32)"
      ]
     },
     "execution_count": 21,
     "metadata": {},
     "output_type": "execute_result"
    }
   ],
   "source": [
    "data.cast_to_pointset().points "
   ]
  },
  {
   "cell_type": "code",
   "execution_count": 22,
   "id": "ee864511-8027-4f62-9a33-7279abb7d151",
   "metadata": {},
   "outputs": [
    {
     "data": {
      "text/plain": [
       "2.0367658501048136"
      ]
     },
     "execution_count": 22,
     "metadata": {},
     "output_type": "execute_result"
    }
   ],
   "source": [
    "4 * data.volume / data.area"
   ]
  },
  {
   "cell_type": "code",
   "execution_count": 23,
   "id": "039fc1d8-f3e9-4d1b-994d-227f294d8d87",
   "metadata": {},
   "outputs": [
    {
     "name": "stderr",
     "output_type": "stream",
     "text": [
      "  0%|                                                                                           | 0/38 [00:00<?, ?it/s]ERROR:root:No points to subdivide\n",
      "  3%|██▏                                                                                | 1/38 [00:00<00:14,  2.53it/s]ERROR:root:No points to subdivide\n",
      "  5%|████▎                                                                              | 2/38 [00:00<00:14,  2.53it/s]ERROR:root:No points to subdivide\n",
      "100%|██████████████████████████████████████████████████████████████████████████████████| 38/38 [00:15<00:00,  2.49it/s]\n"
     ]
    }
   ],
   "source": [
    "for n, (orig, vec, vec_horiz) in tqdm(enumerate(zip(plane_origins, plane_vectors, horiz_dip_dir)), total = len(plane_origins)):\n",
    "    plane = pv.Plane(orig, vec, 20, 20, 100, 100).extract_surface().triangulate()\n",
    "    inter, _, _ = data.intersection(plane, split_first = False, split_second = False)\n",
    "\n",
    "    R1 =  RotateFromTo(vec, vec_horiz, verbose=False)\n",
    "    pp = inter.points - np.mean(plane.points, axis=0)\n",
    "    pp_vertical = R1 @ pp.T\n",
    "    R2 = RotateFromTo(vec_horiz, d1)\n",
    "    pp_rotated = R2 @ pp_vertical\n",
    "\n",
    "    np.savetxt(f\"../../real_data/{BASENAME}/process/sections_as_polylines/{PASSAGE}_{SECTION}_unordered_section_{n:03d}.txt\", pp_rotated.T)\n",
    "        \n",
    "    #pp_reordered = order_points(pp_rotated.T.tolist(), 0)\n"
   ]
  },
  {
   "cell_type": "code",
   "execution_count": null,
   "id": "ac774168-4d4c-41bd-a13c-5771a25df6bf",
   "metadata": {},
   "outputs": [],
   "source": []
  }
 ],
 "metadata": {
  "kernelspec": {
   "display_name": "Python 3 (ipykernel)",
   "language": "python",
   "name": "python3"
  },
  "language_info": {
   "codemirror_mode": {
    "name": "ipython",
    "version": 3
   },
   "file_extension": ".py",
   "mimetype": "text/x-python",
   "name": "python",
   "nbconvert_exporter": "python",
   "pygments_lexer": "ipython3",
   "version": "3.10.8"
  }
 },
 "nbformat": 4,
 "nbformat_minor": 5
}
