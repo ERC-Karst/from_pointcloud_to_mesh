{
 "cells": [
  {
   "cell_type": "code",
   "execution_count": 1,
   "id": "620f1f4b-e246-4e23-bf77-ec70ad14cf3f",
   "metadata": {},
   "outputs": [],
   "source": [
    "import pyvista as pv\n",
    "import numpy as np\n",
    "import matplotlib.pyplot as plt\n",
    "from tqdm import tqdm as tqdm\n",
    "from helpers.rotation import RotateFromTo"
   ]
  },
  {
   "cell_type": "code",
   "execution_count": 2,
   "id": "396045b2-a77b-4c89-bb95-d0ce3a6c0525",
   "metadata": {},
   "outputs": [],
   "source": [
    "data = pv.read(\"../../real_data/GrotteDeLaCascadeDeMotiers/gallery/3e_Galerie_cropped.stl\").extract_surface().triangulate()"
   ]
  },
  {
   "cell_type": "code",
   "execution_count": 3,
   "id": "1d389ef2-0d9a-4731-a0e1-432503cf40b6",
   "metadata": {},
   "outputs": [],
   "source": [
    "GLOBAL_SHIFT = [-537800, -195100, 0]"
   ]
  },
  {
   "cell_type": "code",
   "execution_count": 4,
   "id": "a9f5632f-5daf-4597-8b2d-88fbe82b7c1b",
   "metadata": {},
   "outputs": [],
   "source": [
    "plane_origins = np.loadtxt(\"../../real_data/GrotteDeLaCascadeDeMotiers/planes_as_vectors/3rdGallery_Planes_Origin.txt\") + GLOBAL_SHIFT\n",
    "plane_vectors =  np.loadtxt(\"../../real_data/GrotteDeLaCascadeDeMotiers/planes_as_vectors/3rdGallery_Planes.txt\")"
   ]
  },
  {
   "cell_type": "code",
   "execution_count": 5,
   "id": "d06def01-65b3-47e8-88ea-570fcba302d6",
   "metadata": {},
   "outputs": [],
   "source": [
    "# define orthogonal unit vectors in horizontal plane \n",
    "d0 = np.array([1,0,0])\n",
    "d1 = np.array([0,1,0])\n",
    "\n",
    "# project the section-normal vectors onto horizontal plane. \n",
    "horiz_dip_dir = np.asarray((plane_vectors.dot(d0), plane_vectors.dot(d1), np.zeros(len(plane_vectors)))).T"
   ]
  },
  {
   "cell_type": "code",
   "execution_count": null,
   "id": "039fc1d8-f3e9-4d1b-994d-227f294d8d87",
   "metadata": {},
   "outputs": [
    {
     "name": "stderr",
     "output_type": "stream",
     "text": [
      " 39%|███████████████████████████████▋                                                 | 66/169 [07:14<11:16,  6.57s/it]"
     ]
    }
   ],
   "source": [
    "for n, (orig, vec, vec_horiz) in tqdm(enumerate(zip(plane_origins, plane_vectors, horiz_dip_dir)), total = len(plane_origins)):\n",
    "    plane = pv.Plane(orig, vec, 20, 20, 100, 100).extract_surface().triangulate()\n",
    "    inter, _, _ = data.intersection(plane, split_first = False, split_second = False)\n",
    "\n",
    "    R1 =  RotateFromTo(vec, vec_horiz)\n",
    "    pp = inter.points - np.mean(plane.points, axis=0)\n",
    "    pp_vertical = R1 @ pp.T\n",
    "    R2 = RotateFromTo(vec_horiz, d1)\n",
    "    pp_rotated = R2 @ pp_vertical\n",
    "\n",
    "    np.savetxt(f\"../../real_data/GrotteDeLaCascadeDeMotiers/sections_as_polylines/unordered_section_{n}.txt\", pp_rotated.T)\n",
    "        \n",
    "    #pp_reordered = order_points(pp_rotated.T.tolist(), 0)\n"
   ]
  }
 ],
 "metadata": {
  "kernelspec": {
   "display_name": "Python 3 (ipykernel)",
   "language": "python",
   "name": "python3"
  },
  "language_info": {
   "codemirror_mode": {
    "name": "ipython",
    "version": 3
   },
   "file_extension": ".py",
   "mimetype": "text/x-python",
   "name": "python",
   "nbconvert_exporter": "python",
   "pygments_lexer": "ipython3",
   "version": "3.10.8"
  }
 },
 "nbformat": 4,
 "nbformat_minor": 5
}
