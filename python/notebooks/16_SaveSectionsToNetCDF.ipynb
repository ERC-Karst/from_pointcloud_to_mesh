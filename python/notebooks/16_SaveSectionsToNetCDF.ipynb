{
 "cells": [
  {
   "cell_type": "code",
   "execution_count": 2,
   "id": "d18261ff-9004-413a-8a45-544a2a881e2f",
   "metadata": {},
   "outputs": [],
   "source": [
    "import numpy as np\n",
    "import xarray as xr\n",
    "import os\n",
    "import ot"
   ]
  },
  {
   "cell_type": "code",
   "execution_count": 5,
   "id": "c50b9887-d040-4b48-a2a3-e2bf82954221",
   "metadata": {},
   "outputs": [],
   "source": [
    "root = \"../../real_data/02_GrotteDeLaCascadeDeMotiers/process/\"\n",
    "fp_list = os.listdir(os.path.normpath(os.path.join(root, \"sections_as_polylines\")))"
   ]
  },
  {
   "cell_type": "code",
   "execution_count": 6,
   "id": "c09f07dc-c72c-459d-8c3e-f81814f394a3",
   "metadata": {},
   "outputs": [],
   "source": [
    "fp_sections = [elem for elem in fp_list if (\"ThirdGallery_1_reordered_2d\" in elem) and (\"ply\" not in elem)]"
   ]
  },
  {
   "cell_type": "code",
   "execution_count": 7,
   "id": "28022625-2967-469c-8147-76ab20221e05",
   "metadata": {},
   "outputs": [],
   "source": [
    "sections = [np.loadtxt(os.path.normpath(os.path.join(root,\"sections_as_polylines\", fp))) for fp in fp_sections]\n",
    "\n",
    "plane_vectors = np.loadtxt(os.path.normpath(os.path.join(root,\"planes_as_vectors\",\"ThirdGallery_1_Planes.txt\")))\n",
    "plane_origins = np.loadtxt(os.path.normpath(os.path.join(root,\"planes_as_vectors\",\"ThirdGallery_1_Planes_Origin.txt\")))\n",
    "curvilinear_pos = np.round(np.cumsum(np.linalg.norm(np.diff(plane_origins, axis = 0), axis = 1)), 2)\n",
    "curvilinear_pos = np.pad(curvilinear_pos, (1, 0), \"constant\", constant_values = (0, 0))"
   ]
  },
  {
   "cell_type": "code",
   "execution_count": 10,
   "id": "b51104e6-bcbf-42e3-b9a1-2bab3a3657e3",
   "metadata": {},
   "outputs": [],
   "source": [
    "datasets = []\n",
    "\n",
    "for i in range(len(sections)):\n",
    "    ds = xr.DataArray(sections[i], dims=(\"point\", \"coords_xz\"))\n",
    "    ds.attrs[\"position\"] = plane_origins[i]\n",
    "    ds.attrs[\"normal\"] = plane_vectors[i]\n",
    "    ds.attrs[\"curvilinear\"] = curvilinear_pos[i]\n",
    "    ds.to_netcdf(os.path.normpath(os.path.join(root, \"sections_as_polylines\", f\"ThirdGallery_1_{i:03d}.nc\")))\n",
    "    datasets.append(ds)"
   ]
  },
  {
   "cell_type": "code",
   "execution_count": 26,
   "id": "00f658b9-e741-4565-b9f8-49197b897be9",
   "metadata": {},
   "outputs": [
    {
     "ename": "ValueError",
     "evalue": "a must be 1-dimensional",
     "output_type": "error",
     "traceback": [
      "\u001b[1;31m---------------------------------------------------------------------------\u001b[0m",
      "\u001b[1;31mValueError\u001b[0m                                Traceback (most recent call last)",
      "Cell \u001b[1;32mIn[26], line 2\u001b[0m\n\u001b[0;32m      1\u001b[0m reg \u001b[38;5;241m=\u001b[39m \u001b[38;5;241m1e-2\u001b[39m\n\u001b[1;32m----> 2\u001b[0m X1 \u001b[38;5;241m=\u001b[39m \u001b[43mnp\u001b[49m\u001b[38;5;241;43m.\u001b[39;49m\u001b[43mrandom\u001b[49m\u001b[38;5;241;43m.\u001b[39;49m\u001b[43mchoice\u001b[49m\u001b[43m(\u001b[49m\u001b[43msections\u001b[49m\u001b[43m[\u001b[49m\u001b[38;5;241;43m0\u001b[39;49m\u001b[43m]\u001b[49m\u001b[38;5;241;43m.\u001b[39;49m\u001b[43mastype\u001b[49m\u001b[43m(\u001b[49m\u001b[43mnp\u001b[49m\u001b[38;5;241;43m.\u001b[39;49m\u001b[43mfloat32\u001b[49m\u001b[43m)\u001b[49m\u001b[43m,\u001b[49m\u001b[43m \u001b[49m\u001b[38;5;241;43m200\u001b[39;49m\u001b[43m,\u001b[49m\u001b[43m \u001b[49m\u001b[43mreplace\u001b[49m\u001b[43m \u001b[49m\u001b[38;5;241;43m=\u001b[39;49m\u001b[43m \u001b[49m\u001b[38;5;28;43;01mFalse\u001b[39;49;00m\u001b[43m)\u001b[49m\n\u001b[0;32m      3\u001b[0m X2 \u001b[38;5;241m=\u001b[39m np\u001b[38;5;241m.\u001b[39mrandom\u001b[38;5;241m.\u001b[39mchoice(sections[\u001b[38;5;241m1\u001b[39m]\u001b[38;5;241m.\u001b[39mastype(np\u001b[38;5;241m.\u001b[39mfloat32), \u001b[38;5;241m200\u001b[39m, replace \u001b[38;5;241m=\u001b[39m \u001b[38;5;28;01mFalse\u001b[39;00m)\n\u001b[0;32m      4\u001b[0m a1 \u001b[38;5;241m=\u001b[39m ot\u001b[38;5;241m.\u001b[39munif(\u001b[38;5;28mlen\u001b[39m(X1))\u001b[38;5;241m.\u001b[39mastype(np\u001b[38;5;241m.\u001b[39mfloat32)\n",
      "File \u001b[1;32mmtrand.pyx:911\u001b[0m, in \u001b[0;36mnumpy.random.mtrand.RandomState.choice\u001b[1;34m()\u001b[0m\n",
      "\u001b[1;31mValueError\u001b[0m: a must be 1-dimensional"
     ]
    }
   ],
   "source": [
    "reg = 1e-2\n",
    "X1_idx = np.random.choice(sections[0].astype(np.float32), 200, replace = False)\n",
    "X2 = np.random.choice(sections[1].astype(np.float32), 200, replace = False)\n",
    "a1 = ot.unif(len(X1)).astype(np.float32)\n",
    "a2 = ot.unif(len(X2)).astype(np.float32)\n",
    "\n",
    "n_samples = len(X1)\n",
    "\n",
    "XB_init = np.random.randn(n_samples, 2).astype(np.float32)\n",
    "\n",
    "XB = ot.bregman.free_support_sinkhorn_barycenter(measures_locations=[X1, X2], \n",
    "                                                 measures_weights=[a1, a2], \n",
    "                                                 weights=np.array([0.5, 0.5]).astype(np.float32),X_init=XB_init, reg = reg)\n"
   ]
  },
  {
   "cell_type": "code",
   "execution_count": null,
   "id": "ba58fa5e-107c-4740-ac20-ebeeb90b66c1",
   "metadata": {},
   "outputs": [],
   "source": []
  }
 ],
 "metadata": {
  "kernelspec": {
   "display_name": "Python 3 (ipykernel)",
   "language": "python",
   "name": "python3"
  },
  "language_info": {
   "codemirror_mode": {
    "name": "ipython",
    "version": 3
   },
   "file_extension": ".py",
   "mimetype": "text/x-python",
   "name": "python",
   "nbconvert_exporter": "python",
   "pygments_lexer": "ipython3",
   "version": "3.10.8"
  }
 },
 "nbformat": 4,
 "nbformat_minor": 5
}
