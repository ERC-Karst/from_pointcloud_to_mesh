{
 "cells": [
  {
   "cell_type": "code",
   "execution_count": 11,
   "id": "48377991-51c2-4210-a7e9-0bc92b8c86f0",
   "metadata": {},
   "outputs": [],
   "source": [
    "import numpy as np\n",
    "import os\n",
    "import open3d as o3d\n",
    "import cloudComPy as cc\n",
    "\n",
    "\n",
    "from yaml import load\n",
    "from yaml.loader import Loader"
   ]
  },
  {
   "cell_type": "markdown",
   "id": "c038e682-831c-4628-8bdb-c2a9dc93fd7d",
   "metadata": {},
   "source": [
    "## Set up the processing parameters"
   ]
  },
  {
   "cell_type": "code",
   "execution_count": 12,
   "id": "dcf9fe22-2bb3-44f1-ae19-93848384b3f2",
   "metadata": {},
   "outputs": [],
   "source": [
    "cavename = \"17_Hoelloch\"\n",
    "SCAN = 2"
   ]
  },
  {
   "cell_type": "code",
   "execution_count": 13,
   "id": "40c64da7-e534-4530-8a90-f6169309d68c",
   "metadata": {},
   "outputs": [],
   "source": [
    "PROCESSING_FILEPATH = f\"../../real_data/{cavename}/params.yaml\""
   ]
  },
  {
   "cell_type": "code",
   "execution_count": 14,
   "id": "0d472f00-a964-4f59-965b-886c2e9ab5bf",
   "metadata": {},
   "outputs": [],
   "source": [
    "p = load(open(PROCESSING_FILEPATH), Loader)\n",
    "root = p[\"paths\"][\"root\"]"
   ]
  },
  {
   "cell_type": "markdown",
   "id": "de46b22d-429a-4a5a-8b62-bcd779bfb00a",
   "metadata": {},
   "source": [
    "## Loading the pointcloud to memory "
   ]
  },
  {
   "cell_type": "code",
   "execution_count": 15,
   "id": "5806248d-cc74-4a96-ad63-3641fde7ca36",
   "metadata": {},
   "outputs": [
    {
     "name": "stdout",
     "output_type": "stream",
     "text": [
      "F:\\ScanLeica\\from_pointcloud_to_mesh\\real_data\\17_Hoelloch\\raw\\Hoelloch_Riesengang.las\n"
     ]
    }
   ],
   "source": [
    "# define the file path, root should point to the home cave directory. \n",
    "RAW_CLOUD_FILEPATH = os.path.normpath(os.path.join(root, p[\"paths\"][\"inCloudName\"][SCAN]))\n",
    "\n",
    "print(RAW_CLOUD_FILEPATH)\n",
    "# load the point cloud to memory \n",
    "cloud = cc.loadPointCloud(RAW_CLOUD_FILEPATH)"
   ]
  },
  {
   "cell_type": "markdown",
   "id": "f6a5bdf5-f9cc-4295-9418-33a1c992e9c0",
   "metadata": {},
   "source": [
    "## Resampling for quick visualisations"
   ]
  },
  {
   "cell_type": "code",
   "execution_count": 16,
   "id": "753a39ba-c1ea-4f2d-b147-9829b46ec205",
   "metadata": {},
   "outputs": [],
   "source": [
    "# resample the cloud spatially so as to perform quicker computation\n",
    "SPATIAL_SAMPLING_DISTANCE = p[\"subsampling\"][\"spatialSamplingDistance\"]\n",
    "\n",
    "refCloud = cc.CloudSamplingTools.resampleCloudSpatially(cloud, SPATIAL_SAMPLING_DISTANCE)\n",
    "\n",
    "(spatiallyResampledCloud, res) = cloud.partialClone(refCloud)\n",
    "spatiallyResampledCloud.setName(\"spatiallyResampledCloud\")"
   ]
  },
  {
   "cell_type": "markdown",
   "id": "17258844-2d91-43e3-8bfa-ad10fea4586f",
   "metadata": {},
   "source": [
    "## Saving the dataset to a file"
   ]
  },
  {
   "cell_type": "code",
   "execution_count": 17,
   "id": "859acf66-70c2-463d-88d3-44cacbd3bcce",
   "metadata": {},
   "outputs": [],
   "source": [
    "SUBSAMPLED_CLOUD_FILEPATH = os.path.join(root, p[\"paths\"][\"subsampledGeorefOutCloudName\"][SCAN])\n",
    "\n",
    "ret = cc.SavePointCloud(spatiallyResampledCloud, SUBSAMPLED_CLOUD_FILEPATH)"
   ]
  }
 ],
 "metadata": {
  "kernelspec": {
   "display_name": "Python 3 (ipykernel)",
   "language": "python",
   "name": "python3"
  },
  "language_info": {
   "codemirror_mode": {
    "name": "ipython",
    "version": 3
   },
   "file_extension": ".py",
   "mimetype": "text/x-python",
   "name": "python",
   "nbconvert_exporter": "python",
   "pygments_lexer": "ipython3",
   "version": "3.10.8"
  }
 },
 "nbformat": 4,
 "nbformat_minor": 5
}
