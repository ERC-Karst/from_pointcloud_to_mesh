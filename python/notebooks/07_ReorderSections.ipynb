{
 "cells": [
  {
   "cell_type": "code",
   "execution_count": 1,
   "id": "585e5471-068a-40b5-8a77-bf85a694cc3d",
   "metadata": {},
   "outputs": [],
   "source": [
    "import numpy as np\n",
    "import matplotlib.pyplot as plt\n",
    "from helpers.descriptors import Section\n",
    "from os import listdir\n",
    "from yaml import load\n",
    "from yaml.loader import Loader\n",
    "import matplotlib as mpl\n",
    "from matplotlib.gridspec import GridSpec\n",
    "import os \n",
    "\n",
    "from tqdm import tqdm\n",
    "\n",
    "from helpers.utils import reorder_points"
   ]
  },
  {
   "cell_type": "code",
   "execution_count": 2,
   "id": "b48a4d99-a5bb-4827-9f9a-2b87eef7d1ff",
   "metadata": {
    "scrolled": true
   },
   "outputs": [],
   "source": [
    "font = {'family' : 'DejaVu Sans',\n",
    "        'sans-serif': \"Arial\",\n",
    "        'weight' : 'normal',\n",
    "        'size'   : 18}\n",
    "\n",
    "mpl.rc('font', **font)\n",
    "mpl.rcParams['axes.linewidth'] = 2\n",
    "mpl.rcParams['xtick.major.width'] = 2\n",
    "mpl.rcParams['xtick.major.size'] = 10\n",
    "mpl.rcParams['ytick.major.width'] = 2\n",
    "mpl.rcParams['ytick.major.size'] = 10"
   ]
  },
  {
   "cell_type": "code",
   "execution_count": 3,
   "id": "e769adf4-1175-4d62-9b34-b72e14a65d0f",
   "metadata": {},
   "outputs": [],
   "source": [
    "BASENAME = \"02_GrotteDeLaCascadeDeMotiers\"\n",
    "PASSAGE = \"ThirdGallery\"\n",
    "SECTION = \"1\"\n",
    "\n",
    "PROCESSING_PARAMS = f\"../../real_data/{BASENAME}/params.yaml\"\n",
    "SECTIONS_FILEPATH = f\"../../real_data/{BASENAME}/process/sections_as_polylines/\"\n",
    "PROCESSING_FILEPATH = f\"../../real_data/{BASENAME}/process/planes_as_vectors\"\n",
    "params = load(open(PROCESSING_PARAMS), Loader)\n",
    "\n",
    "GLOBAL_SHIFT = params[\"alignment\"][\"globalShift\"]"
   ]
  },
  {
   "cell_type": "code",
   "execution_count": 4,
   "id": "e30e0294-42b8-49c0-beb1-58a06fb978b5",
   "metadata": {},
   "outputs": [],
   "source": [
    "sections = []\n",
    "sections_fp =[section_fp for section_fp in listdir(SECTIONS_FILEPATH) if f\"{PASSAGE}_{SECTION}\" in section_fp]\n",
    "section_idx = [int(section_fp.strip(\".txt\").split(\"_\")[-1]) for section_fp in sections_fp]"
   ]
  },
  {
   "cell_type": "code",
   "execution_count": 5,
   "id": "bf1957a0-7c7e-4053-a4d8-fefb4abd1923",
   "metadata": {},
   "outputs": [
    {
     "name": "stdout",
     "output_type": "stream",
     "text": [
      "102\n"
     ]
    }
   ],
   "source": [
    "sections_count = len(sections_fp)\n",
    "\n",
    "print(sections_count)"
   ]
  },
  {
   "cell_type": "code",
   "execution_count": 6,
   "id": "76a6c782-010f-4ce6-9bb3-efc10eb692a1",
   "metadata": {},
   "outputs": [],
   "source": [
    "for section in sections_fp:\n",
    "    full_fp = os.path.normpath(os.path.join(SECTIONS_FILEPATH, section))\n",
    "    data = np.loadtxt(full_fp)\n",
    "\n",
    "    sections.append(data)\n",
    "    \n",
    "    "
   ]
  },
  {
   "cell_type": "code",
   "execution_count": 7,
   "id": "5f1fe10a-6ba2-4d7f-9c7e-2e4204571835",
   "metadata": {},
   "outputs": [],
   "source": [
    "# curvilinear coordinates\n",
    "planes_origin = np.loadtxt(f\"../../real_data/{BASENAME}/process/planes_as_vectors/{PASSAGE}_{SECTION}_Planes_Origin.txt\")\n",
    "curvilinear_pos = np.cumsum(np.linalg.norm(np.diff(planes_origin, axis = 0), axis = 1))\n",
    "curvilinear_pos = np.pad(curvilinear_pos, (1, 0), \"constant\", constant_values = (0, 0))"
   ]
  },
  {
   "cell_type": "code",
   "execution_count": 8,
   "id": "5df10520-52fa-45d6-969d-e4e664113797",
   "metadata": {
    "scrolled": true
   },
   "outputs": [
    {
     "name": "stderr",
     "output_type": "stream",
     "text": [
      "100%|████████████████████████████████████████████████████████████████████████████████| 102/102 [00:23<00:00,  4.33it/s]\n"
     ]
    }
   ],
   "source": [
    "ordered = []\n",
    "verbose = False\n",
    "for data, curvilinear_idx in tqdm(zip(sections[:], section_idx), total = len(sections)):\n",
    "    \n",
    "    data = reorder_points(data.tolist(), 0)\n",
    "    dists = np.linalg.norm(np.diff(data, axis = 0), axis = 1)\n",
    "    id0 = 0\n",
    "    idx = -1\n",
    "    if np.any(dists > 1):\n",
    "        if verbose == True:\n",
    "            print(\"likely several segments\")\n",
    "        split = np.argwhere(dists > 0.2).flatten()\n",
    "        split_data = np.array(np.split(data, split), dtype =object)\n",
    "        ind = np.argmax(np.array([len(seg) for seg in split_data]))\n",
    "    \n",
    "        data = split_data[ind]\n",
    "\n",
    "    # recentre to barycentre\n",
    "    data = data - np.mean(data, axis = 0)\n",
    "    # check if closed: \n",
    "    closure = np.linalg.norm(data[-1] - data[0])\n",
    "    if closure > 0.2:\n",
    "        #print(\"there may be a closure error\")\n",
    "        s = Section(data, \"ClosureError\", curvilinear_pos[curvilinear_idx])\n",
    "    else: \n",
    "        s = Section(data, \"all ok\", curvilinear_pos[curvilinear_idx])\n",
    "    ordered.append(s)\n",
    "    s.compute_descriptors()\n",
    "    np.savetxt(f\"../../real_data/{BASENAME}/process/sections_as_polylines/{PASSAGE}_{SECTION}_reordered_2d_{curvilinear_idx:03d}.txt\", s.points2d)\n"
   ]
  },
  {
   "cell_type": "code",
   "execution_count": null,
   "id": "2cd84a38-e736-4e23-8386-125e402b16b2",
   "metadata": {},
   "outputs": [],
   "source": []
  },
  {
   "cell_type": "code",
   "execution_count": null,
   "id": "88e089fd-2e7c-43a0-b003-fc3ca1a36ac4",
   "metadata": {},
   "outputs": [],
   "source": []
  }
 ],
 "metadata": {
  "kernelspec": {
   "display_name": "Python 3 (ipykernel)",
   "language": "python",
   "name": "python3"
  },
  "language_info": {
   "codemirror_mode": {
    "name": "ipython",
    "version": 3
   },
   "file_extension": ".py",
   "mimetype": "text/x-python",
   "name": "python",
   "nbconvert_exporter": "python",
   "pygments_lexer": "ipython3",
   "version": "3.10.8"
  }
 },
 "nbformat": 4,
 "nbformat_minor": 5
}
