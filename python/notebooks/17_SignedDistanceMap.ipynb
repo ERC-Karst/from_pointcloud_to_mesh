{
 "cells": [
  {
   "cell_type": "code",
   "execution_count": 1,
   "id": "24f45669-fa35-47e9-8036-1c457e2f45c8",
   "metadata": {},
   "outputs": [],
   "source": [
    "import numpy as np\n",
    "import matplotlib.pyplot as plt"
   ]
  },
  {
   "cell_type": "code",
   "execution_count": 31,
   "id": "1c93d606-d554-4f4f-ae9e-cd77bb3ac814",
   "metadata": {},
   "outputs": [
    {
     "name": "stdout",
     "output_type": "stream",
     "text": [
      "(50, 50, 50)\n",
      "(50, 50, 50)\n"
     ]
    }
   ],
   "source": [
    "# binary image of a sphere centered on 0,0,0 with radius 0.8\n",
    "x = np.linspace(-1, 1, 50)\n",
    "y = np.linspace(-1, 1, 50)\n",
    "z = np.linspace(-1, 1, 50)\n",
    "binary = np.zeros((50, 50, 50))\n",
    "xxx, yyy, zzz = np.meshgrid(x,y,z)\n",
    "print(xxx.shape)\n",
    "print(binary.shape)\n",
    "bool = np.sqrt(2*yyy**2+2*zzz**2) <=0.8\n",
    "binary[bool] = 1"
   ]
  },
  {
   "cell_type": "code",
   "execution_count": 39,
   "id": "66b29ac5-a719-46ad-b533-5e6d99c65288",
   "metadata": {},
   "outputs": [],
   "source": [
    "from skimage.morphology import skeletonize_3d, medial_axis"
   ]
  },
  {
   "cell_type": "code",
   "execution_count": 42,
   "id": "d3e30afd-cf57-4501-93aa-ccd24c1b9396",
   "metadata": {},
   "outputs": [
    {
     "data": {
      "text/plain": [
       "<matplotlib.image.AxesImage at 0x208fb5f9c00>"
      ]
     },
     "execution_count": 42,
     "metadata": {},
     "output_type": "execute_result"
    },
    {
     "data": {
      "image/png": "[encoded data removed]",
      "text/plain": [
       "<Figure size 640x480 with 1 Axes>"
      ]
     },
     "metadata": {},
     "output_type": "display_data"
    }
   ],
   "source": [
    "plt.imshow(medial_axis(binary[15]).astype(float))"
   ]
  },
  {
   "cell_type": "code",
   "execution_count": 18,
   "id": "19746e94-afa7-4a93-8c8c-5cfea4120f5e",
   "metadata": {},
   "outputs": [],
   "source": [
    "binary_cave = np.loadtxt(\"../../sample_data/SampleCave/output/SignedDistanceMap.txt\")"
   ]
  },
  {
   "cell_type": "code",
   "execution_count": 24,
   "id": "dc651e81-7ba6-4af3-9f18-19a97a55c4e6",
   "metadata": {},
   "outputs": [],
   "source": [
    "bool = binary_cave[:, 2] < 0"
   ]
  }
 ],
 "metadata": {
  "kernelspec": {
   "display_name": "Python 3 (ipykernel)",
   "language": "python",
   "name": "python3"
  },
  "language_info": {
   "codemirror_mode": {
    "name": "ipython",
    "version": 3
   },
   "file_extension": ".py",
   "mimetype": "text/x-python",
   "name": "python",
   "nbconvert_exporter": "python",
   "pygments_lexer": "ipython3",
   "version": "3.10.8"
  }
 },
 "nbformat": 4,
 "nbformat_minor": 5
}
