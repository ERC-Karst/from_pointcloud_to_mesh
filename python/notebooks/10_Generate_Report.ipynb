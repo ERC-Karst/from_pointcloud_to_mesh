{
 "cells": [
  {
   "cell_type": "code",
   "execution_count": 6,
   "id": "b366c74b-e9a4-4583-b480-62f8b3bf298a",
   "metadata": {},
   "outputs": [],
   "source": [
    "# we want to generate a report for each cave. \n",
    "\n",
    "from pylatex import Document, Section, Subsection, Command, Figure\n",
    "from pylatex.utils import italic, NoEscape\n"
   ]
  },
  {
   "cell_type": "code",
   "execution_count": 7,
   "id": "1311050d-1cef-4935-8e42-8abc97b9c61a",
   "metadata": {},
   "outputs": [],
   "source": [
    "# a basic document\n",
    "\n",
    "doc = Document(\"basic\")"
   ]
  },
  {
   "cell_type": "code",
   "execution_count": 8,
   "id": "08f21c04-e0c7-418f-89d3-ccfb14368d56",
   "metadata": {},
   "outputs": [],
   "source": [
    "with doc.create(Section(\"Overview\")):\n",
    "    doc.append(\"Cave name: \")\n",
    "    doc.append(italic(\"La Cueva Meillor\"))"
   ]
  },
  {
   "cell_type": "code",
   "execution_count": 9,
   "id": "164d098c-a59f-442d-9fd1-c4fdab4b32f0",
   "metadata": {},
   "outputs": [],
   "source": [
    "with doc.create(Subsection(\"A figure\")):\n",
    "    with doc.create(Figure(position=\"h\")) as figure:\n",
    "        figure.add_image(\"3rdGallery_stats.pdf\", width = \"450px\")\n",
    "        figure.add_caption(\"Look, a figure.\")\n",
    "        "
   ]
  },
  {
   "cell_type": "code",
   "execution_count": 10,
   "id": "7b507254-ff0e-4be0-a922-f9f9f95820b8",
   "metadata": {},
   "outputs": [],
   "source": [
    "tex = doc.dumps()"
   ]
  },
  {
   "cell_type": "code",
   "execution_count": 11,
   "id": "0b728112-8693-472e-b3de-df69f9ad1519",
   "metadata": {},
   "outputs": [
    {
     "data": {
      "text/plain": [
       "'\\\\documentclass{article}%\\n\\\\usepackage[T1]{fontenc}%\\n\\\\usepackage[utf8]{inputenc}%\\n\\\\usepackage{lmodern}%\\n\\\\usepackage{textcomp}%\\n\\\\usepackage{lastpage}%\\n\\\\usepackage{graphicx}%\\n%\\n%\\n%\\n\\\\begin{document}%\\n\\\\normalsize%\\n\\\\section{Overview}%\\n\\\\label{sec:Overview}%\\nCave name: %\\n\\\\textit{La Cueva Meillor}\\n\\n%\\n\\\\subsection{A figure}%\\n\\\\label{subsec:Afigure}%\\n\\n\\n\\\\begin{figure}[h]%\\n\\\\centering%\\n\\\\includegraphics[width=450px]{3rdGallery_stats.pdf}%\\n\\\\caption{Look, a figure.}%\\n\\\\end{figure}\\n\\n%\\n\\\\end{document}'"
      ]
     },
     "execution_count": 11,
     "metadata": {},
     "output_type": "execute_result"
    }
   ],
   "source": [
    "tex"
   ]
  },
  {
   "cell_type": "code",
   "execution_count": null,
   "id": "62f5a95e-6e9c-4d41-a941-985847689cff",
   "metadata": {},
   "outputs": [],
   "source": [
    "doc.dump"
   ]
  }
 ],
 "metadata": {
  "kernelspec": {
   "display_name": "Python 3 (ipykernel)",
   "language": "python",
   "name": "python3"
  },
  "language_info": {
   "codemirror_mode": {
    "name": "ipython",
    "version": 3
   },
   "file_extension": ".py",
   "mimetype": "text/x-python",
   "name": "python",
   "nbconvert_exporter": "python",
   "pygments_lexer": "ipython3",
   "version": "3.10.8"
  }
 },
 "nbformat": 4,
 "nbformat_minor": 5
}
