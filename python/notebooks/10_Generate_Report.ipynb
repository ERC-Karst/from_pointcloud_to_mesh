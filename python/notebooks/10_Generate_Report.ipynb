{
 "cells": [
  {
   "cell_type": "code",
   "execution_count": 6,
   "id": "b366c74b-e9a4-4583-b480-62f8b3bf298a",
   "metadata": {},
   "outputs": [],
   "source": [
    "# we want to generate a report for each cave. \n",
    "\n",
    "from pylatex import Document, Section, Subsection, Command, Figure\n",
    "from pylatex.utils import italic, NoEscape\n"
   ]
  },
  {
   "cell_type": "code",
   "execution_count": 7,
   "id": "1311050d-1cef-4935-8e42-8abc97b9c61a",
   "metadata": {},
   "outputs": [],
   "source": [
    "# a basic document\n",
    "\n",
    "doc = Document(\"basic\")"
   ]
  },
  {
   "cell_type": "code",
   "execution_count": 8,
   "id": "08f21c04-e0c7-418f-89d3-ccfb14368d56",
   "metadata": {},
   "outputs": [],
   "source": [
    "with doc.create(Section(\"Overview\")):\n",
    "    doc.append(\"Cave name: \")\n",
    "    doc.append(italic(\"La Cueva Meillor\"))"
   ]
  },
  {
   "cell_type": "code",
   "execution_count": 9,
   "id": "164d098c-a59f-442d-9fd1-c4fdab4b32f0",
   "metadata": {},
   "outputs": [],
   "source": [
    "with doc.create(Subsection(\"A figure\")):\n",
    "    with doc.create(Figure(position=\"h\")) as figure:\n",
    "        figure.add_image(\"3rdGallery_stats.pdf\", width = \"450px\")\n",
    "        figure.add_caption(\"Look, a figure.\")\n",
    "        "
   ]
  }
 ],
 "metadata": {
  "kernelspec": {
   "display_name": "Python 3 (ipykernel)",
   "language": "python",
   "name": "python3"
  },
  "language_info": {
   "codemirror_mode": {
    "name": "ipython",
    "version": 3
   },
   "file_extension": ".py",
   "mimetype": "text/x-python",
   "name": "python",
   "nbconvert_exporter": "python",
   "pygments_lexer": "ipython3",
   "version": "3.10.8"
  }
 },
 "nbformat": 4,
 "nbformat_minor": 5
}
