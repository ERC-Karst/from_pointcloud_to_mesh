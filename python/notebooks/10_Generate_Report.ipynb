{
 "cells": [
  {
   "cell_type": "code",
   "execution_count": 23,
   "id": "b366c74b-e9a4-4583-b480-62f8b3bf298a",
   "metadata": {},
   "outputs": [],
   "source": [
    "# we want to generate a report for each cave. \n",
    "\n",
    "from pylatex import Document, Section, Subsection, Command, Figure, PageStyle, Head, Foot, NewPage, MiniPage, LineBreak\n",
    "from pylatex.utils import italic, NoEscape\n",
    "\n",
    "from yaml import load\n",
    "from yaml.loader import Loader"
   ]
  },
  {
   "cell_type": "code",
   "execution_count": 24,
   "id": "0f662e73-fd03-433c-9006-67c7380544dc",
   "metadata": {},
   "outputs": [],
   "source": [
    "# load the different polyline elements. \n",
    "BASENAME = \"12_RuptDuPuits\"\n",
    "PROCESSING_PARAMS = f\"../../real_data/{BASENAME}/params.yaml\"\n",
    "SCAN_DESCRIPTION = f\"../../real_data/{BASENAME}/scan_description.yaml\"\n",
    "\n",
    "desc = load(open(SCAN_DESCRIPTION), Loader)"
   ]
  },
  {
   "cell_type": "code",
   "execution_count": 25,
   "id": "fc7d57af-f2f2-4e33-93b9-c9ca737cc041",
   "metadata": {},
   "outputs": [],
   "source": [
    "THECAVENAME = desc[\"cave\"][\"fullCaveName\"]\n",
    "THEDOCAUTHOR = desc[\"documentAuthor\"]\n",
    "THECAVEHYDRO = desc[\"cave\"][\"hydrology\"]"
   ]
  },
  {
   "cell_type": "code",
   "execution_count": 40,
   "id": "0a0cffa1-404d-4ea4-b688-bd98f5539d6b",
   "metadata": {},
   "outputs": [],
   "source": [
    "# from complex_report.html \n",
    "\n",
    "def generate_unique():\n",
    "    \n",
    "    # Some geometry options. \n",
    "    geometry_options = {\n",
    "        \"head\" : \"1in\",\n",
    "        \"margin\" : \"1.5in\",\n",
    "        \"bottom\" : \"1in\",\n",
    "        \"includeheadfoot\":True\n",
    "    }\n",
    "\n",
    "    doc = Document(geometry_options)\n",
    "\n",
    "    # generate a first page style\n",
    "    first_page = PageStyle(\"firstpage\")\n",
    "\n",
    "    # Add the document title \n",
    "\n",
    "    with first_page.create(Head(\"C\")) as centered_header:\n",
    "        with centered_header.create(MiniPage(width=NoEscape(r\"0.49\\textwidth\"), pos= \"c\")) as title_wrapper:\n",
    "            title_wrapper.append(f\"Scan assembly and analysis report for: {THECAVENAME}\")\n",
    "            title_wrapper.append(LineBreak())\n",
    "            title_wrapper.append(f\"authored by: {THEDOCAUTHOR}\")\n",
    "\n",
    "    with first_page.create(Foot(\"C\")) as centered_footer:\n",
    "        with centered_footer.create(MiniPage(width=NoEscape(r\"0.49\\textwidth\"), pos= \"c\")) as footer_wrapper:\n",
    "            centered_footer.append(r\"\\section\")\n",
    "\n",
    "    doc.preamble.append(first_page)\n",
    "    doc.change_document_style(\"firstpage\")\n",
    "    \n",
    "    # add a section about hydrology.\n",
    "    with doc.create(Section(\"Cave description\")):\n",
    "        doc.append(THECAVEHYDRO)\n",
    "\n",
    "    texcode = doc.dumps()\n",
    "\n",
    "    with open(\"test.tex\", \"w\") as f:\n",
    "        f.write(texcode)\n",
    "        f.close()\n",
    "    return texcode\n",
    "    "
   ]
  },
  {
   "cell_type": "code",
   "execution_count": 41,
   "id": "76b212c6-3d0f-4f2e-8d7d-586a1cbb97b9",
   "metadata": {},
   "outputs": [
    {
     "data": {
      "text/plain": [
       "'\\\\documentclass{article}%\\n\\\\usepackage[T1]{fontenc}%\\n\\\\usepackage[utf8]{inputenc}%\\n\\\\usepackage{lmodern}%\\n\\\\usepackage{textcomp}%\\n\\\\usepackage{lastpage}%\\n\\\\usepackage{fancyhdr}%\\n\\\\usepackage{ragged2e}%\\n%\\n\\\\fancypagestyle{firstpage}{%\\n\\\\renewcommand{\\\\headrulewidth}{0pt}%\\n\\\\renewcommand{\\\\footrulewidth}{0pt}%\\n\\\\fancyhead{%\\n}%\\n\\\\fancyfoot{%\\n}%\\n\\\\fancyhead[C]{%\\n\\\\begin{minipage}[c]{0.49\\\\textwidth}%\\nScan assembly and analysis report for: SystÃ¨me du Rupt du Puits%\\n\\\\linebreak%\\nauthored by: Tanguy Racine%\\n\\\\end{minipage}%\\n}%\\n\\\\fancyfoot[C]{%\\n\\\\begin{minipage}[c]{0.49\\\\textwidth}%\\n\\\\textbackslash{}section%\\n\\\\end{minipage}%\\n}%\\n}%\\n%\\n\\\\begin{document}%\\n\\\\normalsize%\\n\\\\pagestyle{firstpage}%\\n\\\\section{Cave description}%\\n\\\\label{sec:Cavedescription}%\\nunderground course of the river Saulx\\n\\n%\\n\\\\end{document}'"
      ]
     },
     "execution_count": 41,
     "metadata": {},
     "output_type": "execute_result"
    }
   ],
   "source": [
    "generate_unique()"
   ]
  },
  {
   "cell_type": "code",
   "execution_count": null,
   "id": "9b6f2dc2-b212-4b8e-a916-61c6f5c132e3",
   "metadata": {},
   "outputs": [],
   "source": []
  },
  {
   "cell_type": "code",
   "execution_count": null,
   "id": "d9311af8-830a-4d35-8780-d5b5d518da48",
   "metadata": {},
   "outputs": [],
   "source": []
  }
 ],
 "metadata": {
  "kernelspec": {
   "display_name": "Python 3 (ipykernel)",
   "language": "python",
   "name": "python3"
  },
  "language_info": {
   "codemirror_mode": {
    "name": "ipython",
    "version": 3
   },
   "file_extension": ".py",
   "mimetype": "text/x-python",
   "name": "python",
   "nbconvert_exporter": "python",
   "pygments_lexer": "ipython3",
   "version": "3.10.8"
  }
 },
 "nbformat": 4,
 "nbformat_minor": 5
}
