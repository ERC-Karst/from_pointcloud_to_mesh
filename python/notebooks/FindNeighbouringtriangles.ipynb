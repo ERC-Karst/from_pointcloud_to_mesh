{
 "cells": [
  {
   "cell_type": "code",
   "execution_count": 26,
   "id": "714177de-70b5-491d-9d6d-2b9876dd8742",
   "metadata": {},
   "outputs": [],
   "source": [
    "import pyvista as pv\n",
    "import numpy as np\n",
    "from stl import mesh\n",
    "\n",
    "import matplotlib.pyplot as plt\n",
    "import time"
   ]
  },
  {
   "cell_type": "code",
   "execution_count": 3,
   "id": "919802e4-3516-40d1-b037-f72d3bea439e",
   "metadata": {},
   "outputs": [],
   "source": [
    "fp = \"../../real_data/02_GrotteDeLaCascadeDeMotiers/output/3rdGallery_cropped_not_filled_25cm.stl\"\n"
   ]
  },
  {
   "cell_type": "code",
   "execution_count": 27,
   "id": "46aebc5d-68af-451c-a2f1-fb7574a7f9f0",
   "metadata": {},
   "outputs": [],
   "source": [
    "my_mesh = mesh.Mesh.from_file(fp)"
   ]
  },
  {
   "cell_type": "code",
   "execution_count": 30,
   "id": "54cac164-236e-48ac-a482-e5dc9a33ac52",
   "metadata": {},
   "outputs": [],
   "source": [
    "nb_search = np.loadtxt(\"Bourbier_nb_search.txt\").astype(int)"
   ]
  },
  {
   "cell_type": "code",
   "execution_count": 31,
   "id": "b14c2172-8459-4d4c-a33c-93bc90093ddb",
   "metadata": {},
   "outputs": [
    {
     "data": {
      "text/plain": [
       "array([[    1, 22927,  7111],\n",
       "       [    2, 22932,     0],\n",
       "       [    3,     4,     1],\n",
       "       ...,\n",
       "       [26076, 29454, 29474],\n",
       "       [10420, 29468, 29473],\n",
       "       [29467, 26078, 29472]])"
      ]
     },
     "execution_count": 31,
     "metadata": {},
     "output_type": "execute_result"
    }
   ],
   "source": [
    "nb_search"
   ]
  },
  {
   "cell_type": "code",
   "execution_count": 33,
   "id": "19f1bdda-06c3-4c98-8ed9-3264154c8328",
   "metadata": {},
   "outputs": [
    {
     "name": "stdout",
     "output_type": "stream",
     "text": [
      "[[823.849   177.78467 764.1065 ]\n",
      " [824.099   177.58751 763.99005]\n",
      " [823.849   177.58751 764.0701 ]]\n"
     ]
    }
   ],
   "source": [
    "print(my_mesh.vectors[1])\n"
   ]
  },
  {
   "cell_type": "code",
   "execution_count": 4,
   "id": "fdc5c48b-599b-443f-8df0-da0799addd0d",
   "metadata": {},
   "outputs": [],
   "source": [
    "pv_mesh = pv.read(fp)"
   ]
  },
  {
   "cell_type": "code",
   "execution_count": 10,
   "id": "237d99b5-9f1a-491b-a3c6-e0a45778abb7",
   "metadata": {},
   "outputs": [],
   "source": [
    "pv_mesh_surface = pv_mesh.extract_surface().triangulate()\n",
    "assert pv_mesh_surface.is_all_triangles"
   ]
  },
  {
   "cell_type": "code",
   "execution_count": 16,
   "id": "d7cc417a-cc43-479e-a1c8-0d678b947347",
   "metadata": {},
   "outputs": [
    {
     "data": {
      "text/plain": [
       "array([    3,     0,     1, ..., 14803, 14075, 14078], dtype=int64)"
      ]
     },
     "execution_count": 16,
     "metadata": {},
     "output_type": "execute_result"
    }
   ],
   "source": [
    "pv_mesh_surface.faces"
   ]
  },
  {
   "cell_type": "code",
   "execution_count": 17,
   "id": "8836603b-78a3-48e3-92b1-2a22dfef6d4f",
   "metadata": {},
   "outputs": [],
   "source": [
    "faces = pv_mesh_surface.faces.reshape((-1,4))[:, 1:4]\n"
   ]
  },
  {
   "cell_type": "code",
   "execution_count": 23,
   "id": "5aad27dd-f074-4104-a6c5-19b7a705450e",
   "metadata": {},
   "outputs": [],
   "source": [
    "# https://github.com/pyvista/pyvista-support/issues/96\n",
    "\n",
    "def find_faces_with_node(index):\n",
    "    \"\"\"Pass the index of the node in question.\n",
    "    Returns the face indices of the faces with that node.\"\"\"\n",
    "    return [i for i, face in enumerate(faces) if index in face]\n",
    "\n",
    "def find_neighbor_faces(index):\n",
    "    \"\"\"Pass the face index. \n",
    "    Returns the indices of all neighboring faces\"\"\"\n",
    "    face = faces[index]\n",
    "    sharing = set()\n",
    "    for vid in face:\n",
    "        [sharing.add(f) for f in find_faces_with_node(vid)]\n",
    "    sharing.remove(index)\n",
    "    return list(sharing)\n",
    "    \n",
    "\n",
    "def find_neighbor_faces_by_edge(index):\n",
    "    \"\"\"Pass the face index. \n",
    "    Returns the indices of all neighboring faces with shared edges.\"\"\"\n",
    "    face = faces[index]\n",
    "    a = set(f for f in find_faces_with_node(face[0]))\n",
    "    a.remove(index)\n",
    "    b = set(f for f in find_faces_with_node(face[1]))\n",
    "    b.remove(index)\n",
    "    c = set(f for f in find_faces_with_node(face[2]))\n",
    "    c.remove(index)\n",
    "    return [list(a.intersection(b))[0], \n",
    "            list(b.intersection(c))[0], \n",
    "            list(a.intersection(c))[0]]"
   ]
  },
  {
   "cell_type": "code",
   "execution_count": 32,
   "id": "dc6d6b05-8f35-4d50-9f6c-7886ce66aca4",
   "metadata": {},
   "outputs": [
    {
     "name": "stdout",
     "output_type": "stream",
     "text": [
      "[1, 22923, 7111]\n",
      "[2, 22928, 0]\n",
      "[3, 4, 1]\n",
      "[7117, 6, 2]\n",
      "[22930, 2, 5]\n",
      "[8, 20, 4]\n",
      "[8, 3, 7]\n",
      "[7119, 11, 6]\n",
      "[5, 6, 9]\n",
      "[13, 24, 8]\n",
      "[42, 17, 7127]\n",
      "[13, 7, 12]\n",
      "[7130, 15, 11]\n",
      "[9, 11, 14]\n",
      "[18, 30, 13]\n",
      "[16, 18, 12]\n",
      "[7131, 17, 15]\n",
      "[10, 43, 16]\n",
      "[14, 15, 19]\n",
      "[47, 34, 18]\n",
      "[21, 5, 25]\n",
      "[22940, 20, 22]\n",
      "[23, 21, 27]\n",
      "[22941, 22, 5385]\n",
      "[25, 9, 30]\n",
      "[20, 24, 26]\n",
      "[28, 27, 25]\n",
      "[5387, 22, 26]\n",
      "[32, 29, 26]\n",
      "[5393, 28, 39]\n",
      "[24, 14, 31]\n",
      "[35, 32, 30]\n",
      "[28, 31, 33]\n",
      "[37, 38, 32]\n",
      "[35, 19, 59]\n",
      "[31, 34, 36]\n",
      "[37, 35, 60]\n",
      "[33, 36, 40]\n",
      "[39, 33, 40]\n",
      "[29, 38, 5398]\n",
      "[38, 37, 41]\n",
      "[67, 5401, 40]\n",
      "[43, 10, 7135]\n",
      "[44, 17, 42]\n",
      "[45, 46, 43]\n",
      "[7142, 48, 44]\n",
      "[47, 44, 51]\n",
      "[19, 46, 58]\n",
      "[49, 45, 7144]\n",
      "[50, 48, 52]\n",
      "0.11658802032470703\n"
     ]
    }
   ],
   "source": [
    "n = faces.shape[0]\n",
    "\n",
    "time_in = time.time()\n",
    "\n",
    "for idx in range(50):\n",
    "    print(find_neighbor_faces_by_edge(idx))\n",
    "    \n",
    "time_out = time.time()\n",
    "\n",
    "print((time_out - time_in) / 50)\n"
   ]
  },
  {
   "cell_type": "code",
   "execution_count": null,
   "id": "84185249-6301-4b83-9b77-6760571b20bf",
   "metadata": {},
   "outputs": [],
   "source": []
  }
 ],
 "metadata": {
  "kernelspec": {
   "display_name": "Python 3 (ipykernel)",
   "language": "python",
   "name": "python3"
  },
  "language_info": {
   "codemirror_mode": {
    "name": "ipython",
    "version": 3
   },
   "file_extension": ".py",
   "mimetype": "text/x-python",
   "name": "python",
   "nbconvert_exporter": "python",
   "pygments_lexer": "ipython3",
   "version": "3.10.8"
  }
 },
 "nbformat": 4,
 "nbformat_minor": 5
}
