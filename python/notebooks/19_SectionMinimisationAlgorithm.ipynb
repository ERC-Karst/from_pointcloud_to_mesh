{
 "cells": [
  {
   "cell_type": "code",
   "execution_count": 2,
   "id": "50574cf3-441c-48ba-bfc0-034ba23fd6ca",
   "metadata": {},
   "outputs": [],
   "source": [
    "import numpy as np\n",
    "from stl import mesh\n",
    "import matplotlib.pyplot as plt\n",
    "import time\n",
    "import pyvista\n",
    "import itertools\n",
    "import tqdm as tqdm\n",
    "from sklearn.neighbors import NearestNeighbors\n"
   ]
  },
  {
   "cell_type": "code",
   "execution_count": 3,
   "id": "6549942f-a913-41f0-ad56-1cebbd99cd30",
   "metadata": {},
   "outputs": [],
   "source": [
    "#fp = \"../../real_data/02_GrotteDeLaCascadeDeMotiers/output/3rdGallery_cropped_not_filled_25cm.stl\"\n",
    "\n",
    "fp = \"../../real_data/17_Hoelloch/KellerAquarium/output/KellerAquarium_20cm.stl\"\n",
    "\n",
    "\n",
    "#fp = \"../../sample_data/SampleCave/output/CylinderMesh.stl\"\n",
    "my_mesh = mesh.Mesh.from_file(fp)"
   ]
  },
  {
   "cell_type": "markdown",
   "id": "28ba4864-d4e0-4c01-9665-cbbd22ef9844",
   "metadata": {},
   "source": [
    "I use the numpy-stl library to real the file to an stl.Mesh object\n",
    "\n",
    "The data attribute gives a data-array containing each triangle entry.\n",
    "The 0th index is the normal, the 1st index a triplet of coordinates, the 2nd index is an attribute."
   ]
  },
  {
   "cell_type": "code",
   "execution_count": 4,
   "id": "ff8606c9-2b7a-40cb-98a8-2302e1ac237f",
   "metadata": {},
   "outputs": [
    {
     "data": {
      "text/plain": [
       "(202186,)"
      ]
     },
     "execution_count": 4,
     "metadata": {},
     "output_type": "execute_result"
    }
   ],
   "source": [
    "my_mesh.data.shape"
   ]
  },
  {
   "cell_type": "markdown",
   "id": "ce0b0ddc-a57a-4019-91ec-635d4b87014e",
   "metadata": {},
   "source": [
    "The vectors attribute returns the array of triangle vertex coordinates."
   ]
  },
  {
   "cell_type": "code",
   "execution_count": 5,
   "id": "dab8c2bb-b9c2-4fe7-96b3-05a1d9f1fa7b",
   "metadata": {},
   "outputs": [
    {
     "data": {
      "text/plain": [
       "(202186, 3, 3)"
      ]
     },
     "execution_count": 5,
     "metadata": {},
     "output_type": "execute_result"
    }
   ],
   "source": [
    "my_mesh.vectors.shape"
   ]
  },
  {
   "cell_type": "markdown",
   "id": "34bb278c-65d1-41fe-a859-049257739ecc",
   "metadata": {},
   "source": [
    "The normals attribute returns the array of triangle normals."
   ]
  },
  {
   "cell_type": "code",
   "execution_count": 6,
   "id": "ec49acd6-9f85-4fff-8d8c-efb1357e1fe5",
   "metadata": {},
   "outputs": [
    {
     "data": {
      "text/plain": [
       "(202186, 3)"
      ]
     },
     "execution_count": 6,
     "metadata": {},
     "output_type": "execute_result"
    }
   ],
   "source": [
    "my_mesh.normals.shape"
   ]
  },
  {
   "cell_type": "markdown",
   "id": "44f02a8e-7d96-4721-8c42-c260d240c5dd",
   "metadata": {},
   "source": [
    "Now we want to find every edge-neighbour for each triangle (this may be two or three)."
   ]
  },
  {
   "cell_type": "code",
   "execution_count": 7,
   "id": "e2f45751-8960-4ac9-87b7-9949eaff9606",
   "metadata": {},
   "outputs": [],
   "source": [
    "def find_neighbours_with_knn(theMesh):\n",
    "    \"\"\"\n",
    "    extracts a n x 3 matrix of neighbouring triangle indices given a meshed surface containing n triangle.\n",
    "    \"\"\"\n",
    "    time_in = time.time()\n",
    "\n",
    "    # set up a nearest neighbour search.\n",
    "    knn = NearestNeighbors(n_neighbors=12)\n",
    "    knn.fit(theMesh.centroids)\n",
    "    distances, indices = knn.kneighbors(theMesh.centroids)\n",
    "    \n",
    "    vectors = theMesh.vectors\n",
    "    \n",
    "    # allow for different combinations of vertices by using np.roll on the cartesian coordinate triplet.\n",
    "    combi_vectors = np.vstack([vectors, np.roll(vectors, 1, axis =1), np.roll(vectors, 2, axis =1)]).reshape((3,*vectors.shape))\n",
    "\n",
    "    # initialise the indices of neighbouring triangles.\n",
    "    adjacent_triangles = -999*np.ones((vectors.shape[0],3), dtype=int)\n",
    "    \n",
    "    for c, triangle_indices in enumerate(indices):\n",
    "        combi_vec = combi_vectors[:,triangle_indices]\n",
    "        orig_triangle = vectors[c]\n",
    "    \n",
    "        sharing_vertices = np.argwhere(np.alltrue(np.equal(orig_triangle,combi_vec), axis=3))[:,1]\n",
    "        \n",
    "        k = 0\n",
    "        for i in np.unique(sharing_vertices):\n",
    "            if np.argwhere(sharing_vertices==i).shape[0] == 2 and k < 3:\n",
    "                #print(f\"this index appears {i}, corresponding to triangle {triangle_indices[i]} appears\")\n",
    "                adjacent_triangles[c, k] = triangle_indices[i] \n",
    "                k+=1\n",
    "    time_out = time.time()\n",
    "    \n",
    "    print(f\"knn search complete and neighbouring triangles found in {time_out - time_in:.4f}s ({vectors.shape[0]} triangle neighbour sets.)\")\n",
    "    \n",
    "    return adjacent_triangles\n",
    "    "
   ]
  },
  {
   "cell_type": "code",
   "execution_count": 8,
   "id": "8f9161b2-8de2-4703-aab7-1fe030b57ffd",
   "metadata": {},
   "outputs": [
    {
     "name": "stdout",
     "output_type": "stream",
     "text": [
      "knn search complete and neighbouring triangles found in 10.2706s (202186 triangle neighbour sets.)\n"
     ]
    }
   ],
   "source": [
    "adj_triangles = find_neighbours_with_knn(my_mesh)"
   ]
  },
  {
   "cell_type": "code",
   "execution_count": 9,
   "id": "fbe7e9e8-3cc2-4348-94a0-115634a3ad82",
   "metadata": {},
   "outputs": [],
   "source": [
    "np.savetxt(\"../../real_data/17_Hoelloch/KellerAquarium/output/KellerAquarium_20cm_adj_triangles.txt\", adj_triangles)"
   ]
  },
  {
   "cell_type": "markdown",
   "id": "dc512476-fe65-4efe-a77c-4ba409dc84c9",
   "metadata": {},
   "source": [
    "What we now need is the array of uniquely indexed points. "
   ]
  },
  {
   "cell_type": "code",
   "execution_count": 9,
   "id": "0a67d4c7-903c-461b-8db9-588d4ff5d949",
   "metadata": {},
   "outputs": [],
   "source": [
    "def levi_cevita_tensor(dim):   \n",
    "    arr=np.zeros(tuple([dim for _ in range(dim)]))\n",
    "    for x in itertools.permutations(tuple(range(dim))):\n",
    "        mat = np.zeros((dim, dim), dtype=np.int32)\n",
    "        for i, j in zip(range(dim), x):\n",
    "            mat[i, j] = 1\n",
    "        arr[x]=int(np.linalg.det(mat))\n",
    "    return arr    \n",
    "\n",
    "eps = levi_cevita_tensor(3)"
   ]
  },
  {
   "cell_type": "code",
   "execution_count": 10,
   "id": "a0707b8e-99a6-45dd-8f05-4e31795a0a16",
   "metadata": {},
   "outputs": [],
   "source": [
    "def rotate(u, theta):\n",
    "    \"\"\"\n",
    "    returns the rotation matrix given an direction u and an angle theta.\n",
    "    \"\"\"\n",
    "    costh = np.cos(theta)\n",
    "    sinth = np.sin(theta)\n",
    "    \n",
    "    ux = u[0]\n",
    "    uy = u[1]\n",
    "    uz = u[2]\n",
    "    R0 = [costh+ux**2*(1-costh), ux*uy*(1-costh)-uz*sinth, ux*uz*(1-costh)+ux*sinth]\n",
    "    R1 = [uy*ux*(1-costh)+uz*sinth,costh+uy**2*(1-costh), uy*uz*(1-costh)-ux*sinth]\n",
    "    R2 = [uz*ux*(1-costh)+uy*sinth, uz*uy*(1-costh)+ux*sinth, costh+uz**2*(1-costh)]\n",
    "    \n",
    "    R = [R0, R1, R2]\n",
    "    \n",
    "    return R"
   ]
  },
  {
   "cell_type": "code",
   "execution_count": 11,
   "id": "c3291dcb-e437-4558-ba21-be793adcd042",
   "metadata": {},
   "outputs": [],
   "source": [
    "R = rotate(np.array([0, 0, 1]), -np.pi /2)"
   ]
  },
  {
   "cell_type": "code",
   "execution_count": 12,
   "id": "c7c92a31-0210-4e2e-87c2-2a5af28fbbd1",
   "metadata": {},
   "outputs": [],
   "source": [
    "nP = np.array([1, 0, 0])"
   ]
  },
  {
   "cell_type": "code",
   "execution_count": 13,
   "id": "d7fb42b3-57b5-4434-85f4-e86e9879641d",
   "metadata": {},
   "outputs": [
    {
     "data": {
      "text/plain": [
       "array([ 6.123234e-17, -1.000000e+00,  0.000000e+00])"
      ]
     },
     "execution_count": 13,
     "metadata": {},
     "output_type": "execute_result"
    }
   ],
   "source": [
    "R @ nP"
   ]
  },
  {
   "cell_type": "code",
   "execution_count": 14,
   "id": "80c5b1fb-5f0b-4987-8368-4007323b3f61",
   "metadata": {},
   "outputs": [],
   "source": [
    "def intersect(theMesh,adj_triangles, P, nP0):\n",
    "    \n",
    "    # define the plane of section by a point and its normal. \n",
    "    nP = nP0\n",
    "\n",
    "    vectors = theMesh.vectors\n",
    "    normals = theMesh.normals\n",
    "\n",
    "    # calculate the dot product of each triangle vertex to the plane of section: distance plane to vertex.\n",
    "    PT_i_k = (P - vectors) @ nP\n",
    "\n",
    "    # find all triangles  where there are opposite signs for the distance to plane. They are intersected.\n",
    "    all_pos = np.all(np.equal(PT_i_k, np.abs(PT_i_k)), axis = 1)\n",
    "    all_neg = np.all(np.equal(-PT_i_k, np.abs(PT_i_k)), axis = 1)\n",
    "\n",
    "    # find all the triangles containing quantities PT_i_k of opposite signs. \n",
    "    intersected_triangles = np.argwhere(~(all_neg | all_pos))\n",
    "    \n",
    "    # make a mutable list of unvisited triangles\n",
    "    intersected_triangles_list = [elem[0] for elem in intersected_triangles]\n",
    "\n",
    "    n = len(intersected_triangles_list) # number of triangles to visit\n",
    "    i = 0 # starting index for the triangles to visit\n",
    "    triangle_counter = 0 # triangle visited counter\n",
    "\n",
    "    # initialisation of segment middle points, segment edges, facet normals, W and area.\n",
    "    M = np.zeros((n, 3))\n",
    "    M1M2 = np.zeros((n, 3))\n",
    "    PM1M2 = np.zeros((n+1,3))\n",
    "    nOmega = np.zeros((n, 3))\n",
    "    W = np.zeros(3)\n",
    "    area = 0\n",
    "\n",
    "    T0 = np.zeros((3, 3))\n",
    "    \n",
    "    while triangle_counter < n: # stop when all triangles have been visited\n",
    "        \n",
    "        triangle_idx = intersected_triangles[i][0] # the index of the triangle relative to mesh indexation\n",
    "\n",
    "\n",
    "        \n",
    "        PT_k = PT_i_k[triangle_idx]\n",
    "    \n",
    "        # triplet of vector coordinates\n",
    "        T = vectors[triangle_idx]\n",
    "        norm = normals[triangle_idx]\n",
    "    \n",
    "        # label the summit alone in the half space with 0. # relabelling by rolling. Doing the same to the triangles. \n",
    "        if PT_k[1] * PT_k[2] < 0 and PT_k[0] * PT_k[1] < 0: \n",
    "            PT_k = np.roll(PT_k, 2)\n",
    "            T = np.roll(T, 2, axis = 0)\n",
    "        elif PT_k[1] * PT_k[2] < 0 and PT_k[0] * PT_k[1] > 0:\n",
    "            PT_k = np.roll(PT_k, 1)\n",
    "            T = np.roll(T,1, axis = 0)\n",
    "        \n",
    "        # the 0th label must be the point which is in one of the half spaces. \n",
    "        assert PT_k[1] * PT_k[2] > 0\n",
    "\n",
    "        alpha_i1 = PT_k[0] / (PT_k[0]-PT_k[1])\n",
    "        alpha_i2 = PT_k[0] / (PT_k[0]-PT_k[2])\n",
    "\n",
    "        # segment M_i1M_i2\n",
    "        M_i1M_i2 = alpha_i2*(T[0] -T[2]) - alpha_i1*(T[0] -T[1])\n",
    "\n",
    "        # intersection of the plane with segment T_i0T_i1\n",
    "        M_i1 = T[0]- alpha_i1*(T[0] -T[1])\n",
    "        # intersection of the plane with segment T_i0T_i2\n",
    "        M_i2 = T[0]- alpha_i2*(T[0] -T[2])\n",
    "\n",
    "        # coordinates of the middle point of segment M_i1M_i2\n",
    "        M_i = M_i1-0.5 * M_i1M_i2\n",
    "\n",
    "        # update the arrays\n",
    "        M[triangle_counter] = M_i\n",
    "        nOmega[triangle_counter] = norm\n",
    "\n",
    "        # check whether there is a flipped vector or not.\n",
    "        if triangle_counter == 0:\n",
    "            PM1M2[0] = M_i1\n",
    "            PM1M2[1] = M_i2\n",
    "\n",
    "        elif triangle_counter == 1:\n",
    "           \n",
    "            # check whether the previous point is the same as 1st or 2nd index.\n",
    "            if np.allclose(M_i1, PM1M2[triangle_counter]) or np.allclose(M_i2, PM1M2[triangle_counter]):\n",
    "                if np.allclose(M_i1, PM1M2[triangle_counter]):\n",
    "                    PM1M2[triangle_counter+1] = M_i2\n",
    "                else:\n",
    "                    PM1M2[triangle_counter+1] = M_i1\n",
    "                    \n",
    "            elif np.allclose(M_i1, PM1M2[triangle_counter-1]) or np.allclose(M_i2, PM1M2[triangle_counter-1]):\n",
    "                # we have to switch the first two.\n",
    "                PM1M2[:2] = PM1M2.copy()[[1,0]]\n",
    "                \n",
    "                if np.allclose(M_i1, PM1M2[triangle_counter]):\n",
    "                    PM1M2[triangle_counter+1] = M_i2\n",
    "                else:\n",
    "                    PM1M2[triangle_counter+1] = M_i1\n",
    "            \n",
    "            else:\n",
    "                print(\"this might be invalid\")\n",
    "                if np.logical_not(np.all(np.equal(PM1M2[triangle_counter],M_i1))):\n",
    "                    PM1M2[triangle_counter+1] = M_i1\n",
    "                else:\n",
    "                    PM1M2[triangle_counter+1] = M_i2\n",
    "                    \n",
    "        else:\n",
    "            \n",
    "            # check whether the previous point is the same as 1st index.\n",
    "            if np.allclose(M_i1, PM1M2[triangle_counter]):\n",
    "                PM1M2[triangle_counter+1] = M_i2\n",
    "            \n",
    "            elif np.allclose(M_i2, PM1M2[triangle_counter]):\n",
    "                PM1M2[triangle_counter+1] = M_i1\n",
    "\n",
    "        \n",
    "            \n",
    "        M1M2[triangle_counter] = PM1M2[triangle_counter+1] - PM1M2[triangle_counter]\n",
    "\n",
    "        area += np.linalg.det(np.array([M1M2[triangle_counter], M[triangle_counter]-P, nP])) / 2\n",
    "        \n",
    "        # increment the W vector. \n",
    "        \n",
    "        for m in range(3):\n",
    "            num = 0\n",
    "            Wi_m = []\n",
    "            for j in range(3):\n",
    "                for k in range(3):\n",
    "                    num+= eps[m,j,k]*(M[triangle_counter]-P)[j]*nOmega[triangle_counter,k]\n",
    "                    \n",
    "            denom = (M[triangle_counter] - P) @ nOmega[triangle_counter]\n",
    "            \n",
    "            #print(np.array([M1M2[iter], M[iter]-P, nP]))\n",
    "            \n",
    "            det = np.linalg.det(np.array([M1M2[triangle_counter], M[triangle_counter]-P, nP]))\n",
    "            W[m] +=  num / denom * det \n",
    "        \n",
    "        \n",
    "        neighbour_indices = adj_triangles[triangle_idx]\n",
    "        try:\n",
    "            intersected_triangles_list.remove(triangle_idx)\n",
    "        except ValueError:\n",
    "            pass\n",
    "            \n",
    "        try:\n",
    "            if neighbour_indices[0] in intersected_triangles_list:\n",
    "                triangle = neighbour_indices[0]\n",
    "            elif neighbour_indices[1] in intersected_triangles_list:\n",
    "                triangle = neighbour_indices[1]\n",
    "            elif neighbour_indices[2] in intersected_triangles_list:\n",
    "                triangle = neighbour_indices[2]\n",
    "            #else:\n",
    "                # this will fail if a closed cycle section is found and there are remaining triangles.\n",
    "                #print(\"original length of intersected triangles list: \", len(intersected_triangles))\n",
    "                #print(\"length of intersected triangles list: \", len(intersected_triangles_list))\n",
    "                \n",
    "                #assert len(intersected_triangles_list) == 0\n",
    "        \n",
    "        except AssertionError:\n",
    "            \n",
    "            iter = niter\n",
    "            triangle_counter = n\n",
    "            \n",
    "        # find the index of the next triangle to visit (in the list of intersected triangles)\n",
    "        i = np.argwhere(intersected_triangles == triangle)[0][0] \n",
    "        triangle_counter+=1 # update the counter of visited triangles\n",
    "\n",
    "\n",
    "    return nP, M,M1M2, nOmega, W, area"
   ]
  },
  {
   "cell_type": "code",
   "execution_count": 15,
   "id": "3c578b38-a4d6-40ed-92f1-f53a84be8ce0",
   "metadata": {},
   "outputs": [],
   "source": [
    "def minimise_area(theMesh, adj_triangles, P, nP0, niter):\n",
    "    \n",
    "    # define the plane of section by a point and its normal. \n",
    "    nP = nP0\n",
    "\n",
    "    vectors = theMesh.vectors\n",
    "    normals = theMesh.normals\n",
    "    iter = 0\n",
    "\n",
    "    areas = []\n",
    "    Ws = []\n",
    "    theta = 0.5 * np.pi / 360\n",
    "    \n",
    "    while iter < niter:\n",
    "        \n",
    "        nP, M,M1M2, nOmega, W, area = intersect(theMesh, adj_triangles,P,nP)\n",
    "        area_v = area * nP / np.linalg.norm(nP)\n",
    "        areas.append(area_v)\n",
    "        Ws.append(W)\n",
    "        #print(f\"vector W at step {i} is {W}\")\n",
    "            \n",
    "\n",
    "        # apply small rotation d(theta) along axis vector W\n",
    "        # find the 0 for which W vanishes? \n",
    "        \n",
    "        \n",
    "        \n",
    "        #print(f\"updated normal: [{nP[0]} {nP[1]} {nP[2]}]\")\n",
    "        \n",
    "        iter+=1\n",
    "\n",
    "        # np.sign(area_v @ nP)*\n",
    "        R = rotate(W,  np.sign(area_v @ nP)* theta)\n",
    "\n",
    "\n",
    "        # update the normal.\n",
    "        nP = R @ nP #+ np.random.multivariate_normal([0,0,0], [[1e-4, 0, 0],[0, 1e-4, 0],[0, 0, 1e-4]])\n",
    "        nP /= np.linalg.norm(nP)\n",
    "        \n",
    "\n",
    "    return np.array(areas), np.array(Ws)"
   ]
  },
  {
   "cell_type": "code",
   "execution_count": 36,
   "id": "37cb72de-aeff-48e3-9f56-4d04f2023e63",
   "metadata": {},
   "outputs": [
    {
     "name": "stdout",
     "output_type": "stream",
     "text": [
      "[ 0.06866919 -0.08613353  0.0689202 ]\n"
     ]
    }
   ],
   "source": [
    "offset = [0,0,0]\n",
    "P = np.mean(my_mesh.centroids, axis = 0) + offset\n",
    "print(P)\n",
    "nP0 = np.array([1,1,1])"
   ]
  },
  {
   "cell_type": "code",
   "execution_count": 37,
   "id": "f4c295e5-71a2-4688-8b74-7c25e892e277",
   "metadata": {},
   "outputs": [],
   "source": [
    "nP0, M0,M1M20, nOmega0, W0, area0 = intersect(my_mesh, adj_triangles, P, nP0)"
   ]
  },
  {
   "cell_type": "code",
   "execution_count": 38,
   "id": "af144b3d-422e-4712-b1df-76f78dc24317",
   "metadata": {},
   "outputs": [
    {
     "name": "stdout",
     "output_type": "stream",
     "text": [
      "time for 1 section: 1.8534512519836426\n"
     ]
    }
   ],
   "source": [
    "time_in = time.time()\n",
    "out = minimise_area(my_mesh,adj_triangles, P, nP0 ,50)\n",
    "time_out = time.time()\n",
    "print(f\"time for 1 section: {time_out - time_in}\")"
   ]
  },
  {
   "cell_type": "code",
   "execution_count": 39,
   "id": "326f5791-0b47-43db-9a4c-d07e141c65a7",
   "metadata": {},
   "outputs": [
    {
     "name": "stdout",
     "output_type": "stream",
     "text": [
      "[37.32042104 15.99449799 15.21808406 14.66773081 14.26032758 13.9506074\n",
      " 13.70919669 13.51640682 13.36078998 13.23085939 13.12014793 13.02831659\n",
      " 12.95246662 12.88842575 12.83293851 12.78434644 12.74133808 12.6709189\n",
      " 12.60219243 12.54138004 12.48659695  4.61991212  4.61184244  4.60363872\n",
      "  4.59530824  4.58685793  4.57829213  4.56961463  4.56082744  4.55192689\n",
      "  4.54291361  4.53379565  4.52458054 12.54023613 12.52854513 12.51838982\n",
      " 12.50937379 12.50136169 12.49423796 12.43762173 12.3393537  12.23564428\n",
      " 12.47280172 12.46877242 12.46521353 12.46202446 12.45912383 12.45643804\n",
      " 12.45396085 12.45175653]\n",
      "[52.23687312 13.26994132 10.71514205  9.18632626  8.07031788  7.10277874\n",
      "  6.40667396  5.73903566  5.23900101  4.86342155  4.45520042  4.06689177\n",
      "  3.72414661  3.47434541  3.25394098  3.0679842   2.8796899   2.6661141\n",
      "  2.45443917  2.29485866  2.13316503  2.46370658  2.24180708  2.02004093\n",
      "  1.79858955  1.5781714   1.36054079  1.149556    0.95418126  0.79394202\n",
      "  0.6984395   0.69666174  0.79265694  1.62494124  1.51598154  1.42991483\n",
      "  1.34932137  1.27354481  1.20205129  1.13291556  1.0664357   1.0072423\n",
      "  0.96276058  0.90524533  0.85517942  0.81456966  0.78288887  0.75675323\n",
      "  0.71397544  0.677831  ]\n"
     ]
    }
   ],
   "source": [
    "print(np.linalg.norm(out[0], axis =1))\n",
    "print(np.linalg.norm(out[1], axis =1))"
   ]
  },
  {
   "cell_type": "code",
   "execution_count": 42,
   "id": "4cbba6ae-d945-4b91-a717-d656bb70006b",
   "metadata": {},
   "outputs": [],
   "source": [
    "dArea = np.abs(np.diff(np.linalg.norm(out[0], axis =1)) / np.linalg.norm(np.diff(out[1])))"
   ]
  },
  {
   "cell_type": "code",
   "execution_count": 43,
   "id": "de8a2aae-ed20-4091-bd3e-034b81d63004",
   "metadata": {},
   "outputs": [
    {
     "data": {
      "text/plain": [
       "[<matplotlib.lines.Line2D at 0x16ab00b92a0>]"
      ]
     },
     "execution_count": 43,
     "metadata": {},
     "output_type": "execute_result"
    },
    {
     "data": {
      "image/png": "[encoded data removed]",
      "text/plain": [
       "<Figure size 640x480 with 1 Axes>"
      ]
     },
     "metadata": {},
     "output_type": "display_data"
    }
   ],
   "source": [
    "plt.semilogy(dArea)"
   ]
  },
  {
   "cell_type": "code",
   "execution_count": 44,
   "id": "c2606bbc-e4c8-4331-90cd-7baa27e03048",
   "metadata": {},
   "outputs": [
    {
     "name": "stdout",
     "output_type": "stream",
     "text": [
      "49\n"
     ]
    }
   ],
   "source": [
    "idx = np.argmin(np.linalg.norm(out[1], axis = 1))\n",
    "print(idx)"
   ]
  },
  {
   "cell_type": "code",
   "execution_count": 45,
   "id": "bd3e7480-ee58-4f0a-bad4-1e158cb686fb",
   "metadata": {},
   "outputs": [],
   "source": [
    "nP, M,M1M2, nOmega, W, area = intersect(my_mesh,adj_triangles, P, out[0][idx])"
   ]
  },
  {
   "cell_type": "code",
   "execution_count": 46,
   "id": "dbe4bc11-59fb-4c8a-98dc-0e0654ab5eae",
   "metadata": {},
   "outputs": [
    {
     "data": {
      "image/png": "[encoded data removed]",
      "text/plain": [
       "<Figure size 640x480 with 1 Axes>"
      ]
     },
     "metadata": {},
     "output_type": "display_data"
    }
   ],
   "source": [
    "fig, ax = plt.subplots()\n",
    "\n",
    "ax.plot(M[:, 1], M[:, 2])\n",
    "ax.quiver(M[:, 1], M[:, 2], nOmega[:, 0], nOmega[:, 2])\n",
    "ax.quiver(P[1], P[2], W[1], W[2], color = \"rebeccapurple\",  width=0.005, headwidth= 1.5, headlength = 5)\n",
    "ax.set_aspect(\"equal\")"
   ]
  },
  {
   "cell_type": "code",
   "execution_count": 47,
   "id": "630bab9f-4d23-40bc-b157-2ff78bedef58",
   "metadata": {},
   "outputs": [
    {
     "data": {
      "image/png": "[encoded data removed]",
      "text/plain": [
       "<Figure size 1000x1000 with 2 Axes>"
      ]
     },
     "metadata": {},
     "output_type": "display_data"
    }
   ],
   "source": [
    "fig, (ax, ax2) = plt.subplots(2, 1, figsize=(10, 10), sharex = True)\n",
    "\n",
    "ax.scatter(my_mesh[::2, 0], my_mesh[::2, 1], s=2, alpha = 0.05)\n",
    "ax.quiver(P[0], P[1], nP[0], nP[1], color = \"red\", scale = 20, width=0.005, headwidth= 1.5, headlength = 5)\n",
    "\n",
    "for n in out[0]:\n",
    "    ax.quiver(P[0], P[1], n[0], n[1], color = \"rebeccapurple\", width=0.005, headwidth= 1.5, headlength = 5, scale = 40)\n",
    "\n",
    "#ax.quiver(P[0], P[1], W[0], W[1], color = \"rebeccapurple\", width=0.005, headwidth= 1.5, headlength = 5)\n",
    "\n",
    "ax.plot(M[:, 0], M[:, 1], color = \"red\")\n",
    "ax.plot(M0[:, 0], M0[:, 1], color = \"black\")\n",
    "\n",
    "ax.quiver(M[::5, 0], M[::5, 1], nOmega[::5, 0], nOmega[::5, 1], color = \"black\", scale = 4, width=0.003, headwidth= 1.5, headlength =5)\n",
    "ax.set_xlabel(\"X [m]\")\n",
    "ax.set_ylabel(\"Y [m]\")\n",
    "ax.set_aspect(\"equal\")\n",
    "\n",
    "ax2.plot(M[:, 0], M[:, 2], color = \"red\")\n",
    "ax2.quiver(M[::5, 0], M[::5, 2], nOmega[::5, 0], nOmega[::5, 2], color = \"black\", scale = 4, width=0.003, headwidth= 1.5, headlength =5)\n",
    "ax2.set_aspect(\"equal\")\n",
    "ax2.set_xlabel(\"X [m]\")\n",
    "ax2.set_ylabel(\"Z [m]\")\n",
    "\n",
    "plt.savefig(\"./PlanViewBourbier_random_section.png\", dpi = 300)"
   ]
  },
  {
   "cell_type": "code",
   "execution_count": null,
   "id": "3fb9616a-629e-4000-bc8f-fbc5f2f3988a",
   "metadata": {},
   "outputs": [],
   "source": []
  },
  {
   "cell_type": "code",
   "execution_count": null,
   "id": "bd7b4691-4ede-45e7-acd4-6dee0d91777f",
   "metadata": {},
   "outputs": [],
   "source": []
  },
  {
   "cell_type": "code",
   "execution_count": null,
   "id": "4a131a1e-2050-4139-9daa-5000fd9b96d4",
   "metadata": {},
   "outputs": [],
   "source": []
  }
 ],
 "metadata": {
  "kernelspec": {
   "display_name": "Python 3 (ipykernel)",
   "language": "python",
   "name": "python3"
  },
  "language_info": {
   "codemirror_mode": {
    "name": "ipython",
    "version": 3
   },
   "file_extension": ".py",
   "mimetype": "text/x-python",
   "name": "python",
   "nbconvert_exporter": "python",
   "pygments_lexer": "ipython3",
   "version": "3.10.8"
  }
 },
 "nbformat": 4,
 "nbformat_minor": 5
}
