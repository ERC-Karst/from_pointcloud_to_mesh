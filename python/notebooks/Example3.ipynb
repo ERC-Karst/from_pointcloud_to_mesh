{
 "cells": [
  {
   "cell_type": "code",
   "execution_count": 1,
   "id": "9abe8878",
   "metadata": {},
   "outputs": [],
   "source": [
    "import numpy as np\n",
    "from stl import mesh"
   ]
  },
  {
   "cell_type": "code",
   "execution_count": 6,
   "id": "4d3fcec5",
   "metadata": {},
   "outputs": [],
   "source": [
    "# define a plane by point and vector normal\n",
    "\n",
    "# the illumination vector \n",
    "azimuth = 135 / 180 * np.pi\n",
    "zenith_angle = 45 / 180 * np.pi\n",
    "\n",
    "S = np.array([np.cos(azimuth)*np.sin(zenith_angle),np.sin(azimuth)*np.cos(zenith_angle), np.cos(zenith_angle)])"
   ]
  },
  {
   "cell_type": "code",
   "execution_count": 10,
   "id": "701cb2ba",
   "metadata": {},
   "outputs": [],
   "source": [
    "fp = \"../../real_data/02_GrotteDeLaCascadeDeMotiers/output/3rdGallery_cropped_not_filled_25cm.stl\"\n",
    "my_mesh = mesh.Mesh.from_file(fp)"
   ]
  },
  {
   "cell_type": "code",
   "execution_count": 12,
   "id": "8e9e6cb3",
   "metadata": {},
   "outputs": [
    {
     "data": {
      "text/plain": [
       "array([[-7.1720369e-03,  3.3992380e-03, -1.8423472e-02],\n",
       "       [-1.5788108e-02,  9.0942383e-03, -4.9289703e-02],\n",
       "       [-2.1063279e-02,  1.0208130e-02, -6.2500000e-02],\n",
       "       ...,\n",
       "       [ 1.1146545e-02,  2.3544312e-02,  3.3856444e-03],\n",
       "       [ 2.1591187e-03,  3.0517578e-03,  7.0793368e-04],\n",
       "       [ 1.2136996e-05,  1.3411045e-05,  8.4284693e-06]], dtype=float32)"
      ]
     },
     "execution_count": 12,
     "metadata": {},
     "output_type": "execute_result"
    }
   ],
   "source": [
    "my_mesh.normals"
   ]
  },
  {
   "cell_type": "code",
   "execution_count": 27,
   "id": "5b038114-8ca2-4688-ba88-9cae8414c42a",
   "metadata": {},
   "outputs": [],
   "source": [
    "def getSlope(normals):\n",
    "    return np.arctan(np.linalg.norm(normals[:,[0,1]], axis = 1)/np.linalg.norm(normals, axis = 1))\n"
   ]
  },
  {
   "cell_type": "code",
   "execution_count": 33,
   "id": "939257a7-3a12-45fd-b8e7-28f8d09a4e1e",
   "metadata": {},
   "outputs": [
    {
     "name": "stderr",
     "output_type": "stream",
     "text": [
      "C:\\Users\\racinet\\AppData\\Local\\Temp\\ipykernel_22256\\2510817737.py:2: RuntimeWarning: invalid value encountered in divide\n",
      "  return np.arctan(np.linalg.norm(normals[:,[0,1]], axis = 1)/np.linalg.norm(normals, axis = 1))\n"
     ]
    }
   ],
   "source": [
    "slope = getSlope(my_mesh.normals)"
   ]
  },
  {
   "cell_type": "code",
   "execution_count": 34,
   "id": "d45bd547-5eeb-4d4d-b551-139763824701",
   "metadata": {},
   "outputs": [],
   "source": [
    "def getAspect(normals):\n",
    "    return np.arctan2(-normals[:,1], -normals[:,0])"
   ]
  },
  {
   "cell_type": "code",
   "execution_count": 36,
   "id": "20ac2621",
   "metadata": {},
   "outputs": [
    {
     "name": "stderr",
     "output_type": "stream",
     "text": [
      "c:\\Users\\racinet\\.conda\\envs\\CloudComPy310\\lib\\site-packages\\pyvista\\core\\utilities\\points.py:52: UserWarning: Points is not a float type. This can cause issues when transforming or applying filters. Casting to ``np.float32``. Disable this by passing ``force_float=False``.\n",
      "  warnings.warn(\n"
     ]
    }
   ],
   "source": [
    "def R_prime(zenith_angle, azimuth):\n",
    "    (1+np.tan)*np.cos(zenith_angle)"
   ]
  }
 ],
 "metadata": {
  "kernelspec": {
   "display_name": "Python 3 (ipykernel)",
   "language": "python",
   "name": "python3"
  },
  "language_info": {
   "codemirror_mode": {
    "name": "ipython",
    "version": 3
   },
   "file_extension": ".py",
   "mimetype": "text/x-python",
   "name": "python",
   "nbconvert_exporter": "python",
   "pygments_lexer": "ipython3",
   "version": "3.10.8"
  }
 },
 "nbformat": 4,
 "nbformat_minor": 5
}
