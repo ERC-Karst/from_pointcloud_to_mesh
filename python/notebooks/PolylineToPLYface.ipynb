{
 "cells": [
  {
   "cell_type": "code",
   "execution_count": 1,
   "id": "552c055b-7da5-45b5-89f6-7a2ea2401cd2",
   "metadata": {},
   "outputs": [],
   "source": [
    "import numpy as np"
   ]
  },
  {
   "cell_type": "code",
   "execution_count": 93,
   "id": "c73b1f19-04ec-4cd2-bfd3-7fd9425b33ad",
   "metadata": {},
   "outputs": [],
   "source": [
    "fp = \"../../real_data/02_GrotteDeLaCascadeDeMotiers/process/sections_as_polylines/ThirdGallery_1_reordered_2d_064.txt\""
   ]
  },
  {
   "cell_type": "code",
   "execution_count": 94,
   "id": "b1ff5980-97da-4d58-aa9e-d6cce56ad15c",
   "metadata": {},
   "outputs": [],
   "source": [
    "section = np.loadtxt(fp)"
   ]
  },
  {
   "cell_type": "code",
   "execution_count": 95,
   "id": "fefc019d-3175-42b6-9e2f-bcc51e46ffff",
   "metadata": {},
   "outputs": [
    {
     "data": {
      "text/plain": [
       "array([[-1.77419295,  1.21844893],\n",
       "       [-1.77273948,  1.22045365],\n",
       "       [-1.77562013,  1.21574128],\n",
       "       ...,\n",
       "       [-1.73775687,  1.23651649],\n",
       "       [-1.75648796,  1.23272336],\n",
       "       [-1.76351117,  1.23108356]])"
      ]
     },
     "execution_count": 95,
     "metadata": {},
     "output_type": "execute_result"
    }
   ],
   "source": [
    "section"
   ]
  },
  {
   "cell_type": "code",
   "execution_count": 1,
   "id": "26d69e92-0cb9-47ac-8ffa-0cd1ab08fa15",
   "metadata": {},
   "outputs": [],
   "source": [
    "file = \"\"\"ply\n",
    "format ascii 1.0\n",
    "element vertex {n}\n",
    "property float x\n",
    "property float y\n",
    "property float z\n",
    "property float nx\n",
    "property float ny\n",
    "property float nz\n",
    "element face 1\n",
    "property list uchar uint vertex_indices\n",
    "end_header\n",
    "{vertices}\n",
    "{n} {vertex_indices}\"\"\""
   ]
  },
  {
   "cell_type": "code",
   "execution_count": 97,
   "id": "fbe48ee7-c1d8-44c9-9950-b72b461c1076",
   "metadata": {},
   "outputs": [],
   "source": [
    "vertices = [f\"{elem[0]} 0.0 {elem[1]} 0.0 1.0 0.0\" for elem in section]\n",
    "indices = list(range(len(vertices)))\n",
    "vertex_indices = \"\"\n",
    "\n",
    "for elem in indices:\n",
    "    vertex_indices+= f\" {elem}\""
   ]
  },
  {
   "cell_type": "code",
   "execution_count": 98,
   "id": "5f639bb1-9915-452f-b571-c8b99ae341c8",
   "metadata": {},
   "outputs": [],
   "source": [
    "out = file.format(n = len(indices), vertices = \"\\n\".join(vertices), vertex_indices = vertex_indices)\n"
   ]
  },
  {
   "cell_type": "code",
   "execution_count": 99,
   "id": "b316fcf0-84fc-4f7e-b40a-49f69d6189d8",
   "metadata": {},
   "outputs": [],
   "source": [
    "with open(fp.strip(\"txt\") + \"ply\", \"w\") as f:\n",
    "    f.write(out)\n",
    "    f.close()"
   ]
  },
  {
   "cell_type": "code",
   "execution_count": null,
   "id": "6ded1bed-c691-4d98-9a4e-b30d3e435870",
   "metadata": {},
   "outputs": [],
   "source": []
  },
  {
   "cell_type": "code",
   "execution_count": null,
   "id": "6cfe61d1-4839-48c3-b6b5-c76712b3b948",
   "metadata": {},
   "outputs": [],
   "source": []
  }
 ],
 "metadata": {
  "kernelspec": {
   "display_name": "Python 3 (ipykernel)",
   "language": "python",
   "name": "python3"
  },
  "language_info": {
   "codemirror_mode": {
    "name": "ipython",
    "version": 3
   },
   "file_extension": ".py",
   "mimetype": "text/x-python",
   "name": "python",
   "nbconvert_exporter": "python",
   "pygments_lexer": "ipython3",
   "version": "3.10.8"
  }
 },
 "nbformat": 4,
 "nbformat_minor": 5
}
