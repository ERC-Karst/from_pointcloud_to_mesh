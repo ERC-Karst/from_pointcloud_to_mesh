{
 "cells": [
  {
   "cell_type": "code",
   "execution_count": 1,
   "id": "3bec6853-b381-4539-92d8-47ee98240031",
   "metadata": {},
   "outputs": [],
   "source": [
    "# start with the imports\n",
    "import cloudComPy as cc\n",
    "import os\n",
    "import numpy as np\n",
    "\n",
    "import matplotlib.pyplot as plt\n",
    "import matplotlib as mpl\n",
    "from matplotlib.gridspec import GridSpec\n",
    "\n",
    "from yaml import load\n",
    "from yaml.loader import Loader"
   ]
  },
  {
   "cell_type": "code",
   "execution_count": 2,
   "id": "47fadc5b-01e2-4b89-9cb4-b26a7cbe6fcb",
   "metadata": {},
   "outputs": [],
   "source": [
    "cloud = cc.loadPointCloud(\"../../real_data/07_BaumeDeLongeaigue/output/GrandToboggan_PuitsDelaPerche_clean.ply\")"
   ]
  },
  {
   "cell_type": "code",
   "execution_count": 3,
   "id": "80a6e804-99cf-4310-822c-eb4c6c2d5955",
   "metadata": {},
   "outputs": [
    {
     "data": {
      "text/plain": [
       "311137236"
      ]
     },
     "execution_count": 3,
     "metadata": {},
     "output_type": "execute_result"
    }
   ],
   "source": [
    "cloud.size()"
   ]
  },
  {
   "cell_type": "code",
   "execution_count": 4,
   "id": "fd4e552b-8098-413a-921a-b865cdf589a0",
   "metadata": {},
   "outputs": [],
   "source": [
    "res = cc.computeCurvature(cc.CurvatureType.GAUSSIAN_CURV, 0.05, [cloud])"
   ]
  },
  {
   "cell_type": "code",
   "execution_count": 5,
   "id": "431ccea8-479e-4fa3-a5a0-8d2546cd8012",
   "metadata": {},
   "outputs": [
    {
     "data": {
      "text/plain": [
       "{'CANUPO.class': 1,\n",
       " 'CANUPO.confidence': 2,\n",
       " 'Coord. Z': 3,\n",
       " 'Gaussian curvature (0.05)': 4,\n",
       " 'Intensity': 0}"
      ]
     },
     "execution_count": 5,
     "metadata": {},
     "output_type": "execute_result"
    }
   ],
   "source": [
    "cloud.getScalarFieldDic()"
   ]
  },
  {
   "cell_type": "code",
   "execution_count": null,
   "id": "c17ac2b2-e28f-4668-8b81-f644bc9aca59",
   "metadata": {},
   "outputs": [],
   "source": []
  }
 ],
 "metadata": {
  "kernelspec": {
   "display_name": "Python 3 (ipykernel)",
   "language": "python",
   "name": "python3"
  },
  "language_info": {
   "codemirror_mode": {
    "name": "ipython",
    "version": 3
   },
   "file_extension": ".py",
   "mimetype": "text/x-python",
   "name": "python",
   "nbconvert_exporter": "python",
   "pygments_lexer": "ipython3",
   "version": "3.10.8"
  }
 },
 "nbformat": 4,
 "nbformat_minor": 5
}
